{
 "cells": [
  {
   "cell_type": "markdown",
   "metadata": {},
   "source": [
    "# Udacity MLND Capstone Project \n",
    "## \"Determination of students’ interaction patterns with an intelligent tutoring system and study of their correlation with successful learning\"\n",
    "### Step 2 (learning rate determination)"
   ]
  },
  {
   "cell_type": "code",
   "execution_count": 1,
   "metadata": {
    "collapsed": true
   },
   "outputs": [],
   "source": [
    "import pandas as pd\n",
    "import numpy as np\n",
    "%matplotlib inline\n",
    "import matplotlib.pyplot as plt\n",
    "import gzip\n",
    "import shutil\n",
    "import time\n",
    "from scipy.optimize import minimize"
   ]
  },
  {
   "cell_type": "code",
   "execution_count": 2,
   "metadata": {
    "collapsed": true
   },
   "outputs": [],
   "source": [
    "def hdf_fixed_write_compress(df):\n",
    "    df.to_hdf('data1-step1.hdf','test',mode='w',complib='blosc')\n",
    "    return\n",
    "\n",
    "def hdf_fixed_read_compress():\n",
    "    df = pd.read_hdf('data.hdf','test')\n",
    "    return df"
   ]
  },
  {
   "cell_type": "code",
   "execution_count": 3,
   "metadata": {},
   "outputs": [
    {
     "name": "stdout",
     "output_type": "stream",
     "text": [
      "-rw-rw-r-- 1 dima806 dima806 73M Nov  4 13:27 data.hdf\r\n"
     ]
    },
    {
     "data": {
      "text/html": [
       "<div>\n",
       "<style>\n",
       "    .dataframe thead tr:only-child th {\n",
       "        text-align: right;\n",
       "    }\n",
       "\n",
       "    .dataframe thead th {\n",
       "        text-align: left;\n",
       "    }\n",
       "\n",
       "    .dataframe tbody tr th {\n",
       "        vertical-align: top;\n",
       "    }\n",
       "</style>\n",
       "<table border=\"1\" class=\"dataframe\">\n",
       "  <thead>\n",
       "    <tr style=\"text-align: right;\">\n",
       "      <th></th>\n",
       "      <th>Anon Student Id</th>\n",
       "      <th>Session Id</th>\n",
       "      <th>Duration (sec)</th>\n",
       "      <th>Student Response Type</th>\n",
       "      <th>Problem Name</th>\n",
       "      <th>Problem View</th>\n",
       "      <th>Attempt At Step</th>\n",
       "      <th>Outcome</th>\n",
       "      <th>Day</th>\n",
       "      <th>x</th>\n",
       "    </tr>\n",
       "  </thead>\n",
       "  <tbody>\n",
       "    <tr>\n",
       "      <th>0</th>\n",
       "      <td>Stu_001d187b1b375fe98b88696b250177f0</td>\n",
       "      <td>647501</td>\n",
       "      <td>102.0</td>\n",
       "      <td>1</td>\n",
       "      <td>2218</td>\n",
       "      <td>1.0</td>\n",
       "      <td>1.0</td>\n",
       "      <td>2.0</td>\n",
       "      <td>2004-11-10</td>\n",
       "      <td>0</td>\n",
       "    </tr>\n",
       "    <tr>\n",
       "      <th>1</th>\n",
       "      <td>Stu_001d187b1b375fe98b88696b250177f0</td>\n",
       "      <td>647501</td>\n",
       "      <td>46.0</td>\n",
       "      <td>0</td>\n",
       "      <td>2218</td>\n",
       "      <td>1.0</td>\n",
       "      <td>2.0</td>\n",
       "      <td>0.0</td>\n",
       "      <td>2004-11-10</td>\n",
       "      <td>1</td>\n",
       "    </tr>\n",
       "    <tr>\n",
       "      <th>2</th>\n",
       "      <td>Stu_001d187b1b375fe98b88696b250177f0</td>\n",
       "      <td>647792</td>\n",
       "      <td>70.0</td>\n",
       "      <td>1</td>\n",
       "      <td>3093</td>\n",
       "      <td>1.0</td>\n",
       "      <td>1.0</td>\n",
       "      <td>2.0</td>\n",
       "      <td>2004-11-10</td>\n",
       "      <td>0</td>\n",
       "    </tr>\n",
       "    <tr>\n",
       "      <th>3</th>\n",
       "      <td>Stu_001d187b1b375fe98b88696b250177f0</td>\n",
       "      <td>647792</td>\n",
       "      <td>22.0</td>\n",
       "      <td>1</td>\n",
       "      <td>3093</td>\n",
       "      <td>1.0</td>\n",
       "      <td>1.0</td>\n",
       "      <td>2.0</td>\n",
       "      <td>2004-11-10</td>\n",
       "      <td>0</td>\n",
       "    </tr>\n",
       "    <tr>\n",
       "      <th>4</th>\n",
       "      <td>Stu_001d187b1b375fe98b88696b250177f0</td>\n",
       "      <td>647792</td>\n",
       "      <td>2.0</td>\n",
       "      <td>1</td>\n",
       "      <td>3093</td>\n",
       "      <td>1.0</td>\n",
       "      <td>2.0</td>\n",
       "      <td>2.0</td>\n",
       "      <td>2004-11-10</td>\n",
       "      <td>0</td>\n",
       "    </tr>\n",
       "  </tbody>\n",
       "</table>\n",
       "</div>"
      ],
      "text/plain": [
       "                        Anon Student Id  Session Id  Duration (sec)  \\\n",
       "0  Stu_001d187b1b375fe98b88696b250177f0      647501           102.0   \n",
       "1  Stu_001d187b1b375fe98b88696b250177f0      647501            46.0   \n",
       "2  Stu_001d187b1b375fe98b88696b250177f0      647792            70.0   \n",
       "3  Stu_001d187b1b375fe98b88696b250177f0      647792            22.0   \n",
       "4  Stu_001d187b1b375fe98b88696b250177f0      647792             2.0   \n",
       "\n",
       "   Student Response Type  Problem Name  Problem View  Attempt At Step  \\\n",
       "0                      1          2218           1.0              1.0   \n",
       "1                      0          2218           1.0              2.0   \n",
       "2                      1          3093           1.0              1.0   \n",
       "3                      1          3093           1.0              1.0   \n",
       "4                      1          3093           1.0              2.0   \n",
       "\n",
       "   Outcome         Day  x  \n",
       "0      2.0  2004-11-10  0  \n",
       "1      0.0  2004-11-10  1  \n",
       "2      2.0  2004-11-10  0  \n",
       "3      2.0  2004-11-10  0  \n",
       "4      2.0  2004-11-10  0  "
      ]
     },
     "execution_count": 3,
     "metadata": {},
     "output_type": "execute_result"
    }
   ],
   "source": [
    "with gzip.open('data1.hdf.gz', 'rb') as f_in, open('data.hdf', 'wb') as f_out:\n",
    "    shutil.copyfileobj(f_in, f_out)\n",
    "\n",
    "!ls -lh data.hdf\n",
    "\n",
    "data = hdf_fixed_read_compress()\n",
    "data.head()"
   ]
  },
  {
   "cell_type": "markdown",
   "metadata": {},
   "source": [
    "this step requires about ~45 min to complete:"
   ]
  },
  {
   "cell_type": "code",
   "execution_count": 4,
   "metadata": {},
   "outputs": [
    {
     "name": "stdout",
     "output_type": "stream",
     "text": [
      "\t>>> Progress\t:100.0000%\n",
      "\t>>> Exec. time\t:2967.151068687439s\n"
     ]
    }
   ],
   "source": [
    "\n",
    "start_time = time.time()\n",
    "\n",
    "#df = data.head(50000).copy()\n",
    "df = data.copy()\n",
    "stud_list = df['Anon Student Id'].unique()\n",
    "cols=['learning_parameter', \\\n",
    "     'difficulty_parameter', \\\n",
    "     'number of attempts', \\\n",
    "     'number of incorrect attempts']\n",
    "\n",
    "numbers = []\n",
    "#stud_data = pd.DataFrame(columns=cols)\n",
    "stud_info_df = pd.DataFrame()\n",
    "j = 0\n",
    "\n",
    "# Taken from http://apmonitor.com/che263/index.php/Main/PythonDataRegression\n",
    "# and adopted for my purpose\n",
    "\n",
    "# Inplement C-stat (no need for binning), revelant formula is (5) in \n",
    "# W.Cash paper http://adsabs.harvard.edu/doi/10.1086/156922  \n",
    "# see also B5 of https://heasarc.gsfc.nasa.gov/docs/xanadu/xspec/manual/XSappendixStatistics.html \n",
    "\n",
    "# calculate y\n",
    "def calc_y(x):\n",
    "    b = x[0]\n",
    "    d = x[1]\n",
    "    y = b*(xm)**(-d) # Fitting with powerlaw error function\n",
    "    return y\n",
    "\n",
    "# define C-stat\n",
    "def C_stat(x):\n",
    "\n",
    "#    xm = np.array(attempts_data_stud_num['Attempt At Step'])\n",
    "#    ym = 1-np.array(attempts_data_stud_num['Outcome']) # 1-x because we fit the error rate\n",
    "    # calculate y\n",
    "    y = calc_y(x)\n",
    "    # calculate C-stat\n",
    "    Cstat = 0.0\n",
    "    for i in range(len(ym)):\n",
    "        Cstat += 2*(y[i] - ym[i]*np.log(y[i])) # C-stat, see eq.5 in http://adsabs.harvard.edu/doi/10.1086/156922 \n",
    "    # return result\n",
    "    return Cstat\n",
    "\n",
    "for stud_name in stud_list:\n",
    "\n",
    "    stud_info_df = df[(df['Anon Student Id'] == stud_name) & (df['Outcome'] <= 1)].copy()\n",
    "\n",
    "\n",
    "    stud_name = j # assign unique numerical ID to each student \n",
    "    xm = np.array(stud_info_df['x'])\n",
    "    ym = np.array(stud_info_df['Outcome']) \n",
    "    # initial guesses\n",
    "    x0 = np.zeros(2)\n",
    "    x0[0] = 0.7 # initial difficulty_parameter_b\n",
    "    x0[1] = 0.5 # initial learning_rate_d\n",
    "\n",
    "    # optimize\n",
    "    # bounds on variables\n",
    "    bounds_difficulty_parameter_b = (1e-3, 1.0e+1)\n",
    "    bounds_learning_parameter_d = (-1.0e+2, 1.0e+2)\n",
    "    solution = minimize(C_stat, x0, method='SLSQP', bounds=(bounds_difficulty_parameter_b, bounds_learning_parameter_d))\n",
    "\n",
    "    # method = 'SLSQP' - original\n",
    "    # other methods (L-BFGS-B, TNC) give the same results,\n",
    "    # COBYLA is simply too slow ...\n",
    "\n",
    "    x = solution.x\n",
    "    y = calc_y(x)\n",
    "\n",
    "    numbers.append([x[1], x[0], len(xm), sum(ym)])\n",
    "    \n",
    "#    print(x[1], x[0], C_stat(x0), C_stat(x))\n",
    "\n",
    "    print(\"\\r\\t>>> Progress\\t:{:.4%}\".format((j + 1)/len(stud_list)), end='')\n",
    "    j += 1\n",
    "stud_data = pd.DataFrame(data=numbers, columns=cols)\n",
    "end_time = time.time()\n",
    "print(\"\\n\\t>>> Exec. time\\t:{}s\".format(end_time-start_time))"
   ]
  },
  {
   "cell_type": "code",
   "execution_count": 8,
   "metadata": {},
   "outputs": [
    {
     "data": {
      "text/html": [
       "<div>\n",
       "<style>\n",
       "    .dataframe thead tr:only-child th {\n",
       "        text-align: right;\n",
       "    }\n",
       "\n",
       "    .dataframe thead th {\n",
       "        text-align: left;\n",
       "    }\n",
       "\n",
       "    .dataframe tbody tr th {\n",
       "        vertical-align: top;\n",
       "    }\n",
       "</style>\n",
       "<table border=\"1\" class=\"dataframe\">\n",
       "  <thead>\n",
       "    <tr style=\"text-align: right;\">\n",
       "      <th></th>\n",
       "      <th>learning_parameter</th>\n",
       "      <th>difficulty_parameter</th>\n",
       "      <th>number of attempts</th>\n",
       "      <th>number of incorrect attempts</th>\n",
       "    </tr>\n",
       "  </thead>\n",
       "  <tbody>\n",
       "    <tr>\n",
       "      <th>0</th>\n",
       "      <td>0.172964</td>\n",
       "      <td>0.577597</td>\n",
       "      <td>303</td>\n",
       "      <td>146.0</td>\n",
       "    </tr>\n",
       "    <tr>\n",
       "      <th>1</th>\n",
       "      <td>-0.011161</td>\n",
       "      <td>0.623980</td>\n",
       "      <td>295</td>\n",
       "      <td>187.0</td>\n",
       "    </tr>\n",
       "    <tr>\n",
       "      <th>2</th>\n",
       "      <td>-0.084896</td>\n",
       "      <td>0.459276</td>\n",
       "      <td>529</td>\n",
       "      <td>269.0</td>\n",
       "    </tr>\n",
       "    <tr>\n",
       "      <th>3</th>\n",
       "      <td>0.044947</td>\n",
       "      <td>0.459728</td>\n",
       "      <td>1286</td>\n",
       "      <td>556.0</td>\n",
       "    </tr>\n",
       "    <tr>\n",
       "      <th>4</th>\n",
       "      <td>0.066242</td>\n",
       "      <td>0.486793</td>\n",
       "      <td>821</td>\n",
       "      <td>369.0</td>\n",
       "    </tr>\n",
       "  </tbody>\n",
       "</table>\n",
       "</div>"
      ],
      "text/plain": [
       "   learning_parameter  difficulty_parameter  number of attempts  \\\n",
       "0            0.172964              0.577597                 303   \n",
       "1           -0.011161              0.623980                 295   \n",
       "2           -0.084896              0.459276                 529   \n",
       "3            0.044947              0.459728                1286   \n",
       "4            0.066242              0.486793                 821   \n",
       "\n",
       "   number of incorrect attempts  \n",
       "0                         146.0  \n",
       "1                         187.0  \n",
       "2                         269.0  \n",
       "3                         556.0  \n",
       "4                         369.0  "
      ]
     },
     "execution_count": 8,
     "metadata": {},
     "output_type": "execute_result"
    }
   ],
   "source": [
    "stud_data.head()"
   ]
  },
  {
   "cell_type": "code",
   "execution_count": 9,
   "metadata": {
    "collapsed": true
   },
   "outputs": [],
   "source": [
    "stud_data.to_csv('student_learning_final.csv')"
   ]
  },
  {
   "cell_type": "code",
   "execution_count": 10,
   "metadata": {},
   "outputs": [
    {
     "name": "stdout",
     "output_type": "stream",
     "text": [
      "-rw-rw-r-- 1 dima806 dima806 471268 Nov  4 14:34 student_learning_final.csv\r\n"
     ]
    }
   ],
   "source": [
    "! ls -l student_learning_final.csv"
   ]
  },
  {
   "cell_type": "code",
   "execution_count": null,
   "metadata": {
    "collapsed": true
   },
   "outputs": [],
   "source": []
  }
 ],
 "metadata": {
  "kernelspec": {
   "display_name": "Python 3",
   "language": "python",
   "name": "python3"
  },
  "language_info": {
   "codemirror_mode": {
    "name": "ipython",
    "version": 3
   },
   "file_extension": ".py",
   "mimetype": "text/x-python",
   "name": "python",
   "nbconvert_exporter": "python",
   "pygments_lexer": "ipython3",
   "version": "3.6.1"
  }
 },
 "nbformat": 4,
 "nbformat_minor": 2
}
