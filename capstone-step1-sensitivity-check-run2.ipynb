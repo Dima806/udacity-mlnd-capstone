{
 "cells": [
  {
   "cell_type": "markdown",
   "metadata": {},
   "source": [
    "# Udacity MLND Capstone Project \n",
    "## \"Determination of students’ interaction patterns with an intelligent tutoring system and study of their correlation with successful learning\"\n",
    "### Step 1 (sensitivity check, run 2)"
   ]
  },
  {
   "cell_type": "code",
   "execution_count": 1,
   "metadata": {
    "collapsed": true
   },
   "outputs": [],
   "source": [
    "# Select test_size and random_state for splitting a subset\n",
    "test_size=0.1\n",
    "random_state=1"
   ]
  },
  {
   "cell_type": "code",
   "execution_count": 2,
   "metadata": {
    "collapsed": true
   },
   "outputs": [],
   "source": [
    "import pandas as pd\n",
    "import numpy as np\n",
    "%matplotlib inline\n",
    "import matplotlib.pyplot as plt\n",
    "import matplotlib.cm as cm\n",
    "import time\n",
    "import gzip\n",
    "import shutil\n",
    "import seaborn as sns\n",
    "from collections import Counter\n",
    "\n",
    "from sklearn.mixture import GaussianMixture\n",
    "from sklearn.cluster import KMeans, MeanShift, estimate_bandwidth, AgglomerativeClustering\n",
    "from sklearn.metrics import silhouette_score #, make_scorer\n",
    "from sklearn.preprocessing import StandardScaler, MinMaxScaler\n",
    "from sklearn.neighbors import kneighbors_graph\n",
    "from sklearn.model_selection import train_test_split"
   ]
  },
  {
   "cell_type": "markdown",
   "metadata": {},
   "source": [
    "Do some preprocessing to group the data by `'Anon Stud Id'` and extract features for further analysis"
   ]
  },
  {
   "cell_type": "code",
   "execution_count": 3,
   "metadata": {
    "collapsed": true
   },
   "outputs": [],
   "source": [
    "def hdf_fixed_write_compress(df):\n",
    "    df.to_hdf('data1-step1.hdf','test',mode='w',complib='blosc')\n",
    "    return\n",
    "\n",
    "def hdf_fixed_read_compress():\n",
    "    df = pd.read_hdf('data.hdf','test')\n",
    "    return df"
   ]
  },
  {
   "cell_type": "code",
   "execution_count": 4,
   "metadata": {},
   "outputs": [
    {
     "name": "stdout",
     "output_type": "stream",
     "text": [
      "-rw-rw-r-- 1 dima806 dima806 73M Nov  4 20:00 data.hdf\r\n"
     ]
    },
    {
     "data": {
      "text/html": [
       "<div>\n",
       "<style>\n",
       "    .dataframe thead tr:only-child th {\n",
       "        text-align: right;\n",
       "    }\n",
       "\n",
       "    .dataframe thead th {\n",
       "        text-align: left;\n",
       "    }\n",
       "\n",
       "    .dataframe tbody tr th {\n",
       "        vertical-align: top;\n",
       "    }\n",
       "</style>\n",
       "<table border=\"1\" class=\"dataframe\">\n",
       "  <thead>\n",
       "    <tr style=\"text-align: right;\">\n",
       "      <th></th>\n",
       "      <th>Anon Student Id</th>\n",
       "      <th>Session Id</th>\n",
       "      <th>Duration (sec)</th>\n",
       "      <th>Student Response Type</th>\n",
       "      <th>Problem Name</th>\n",
       "      <th>Problem View</th>\n",
       "      <th>Attempt At Step</th>\n",
       "      <th>Outcome</th>\n",
       "      <th>Day</th>\n",
       "      <th>x</th>\n",
       "    </tr>\n",
       "  </thead>\n",
       "  <tbody>\n",
       "    <tr>\n",
       "      <th>0</th>\n",
       "      <td>Stu_001d187b1b375fe98b88696b250177f0</td>\n",
       "      <td>647501</td>\n",
       "      <td>102.0</td>\n",
       "      <td>1</td>\n",
       "      <td>2218</td>\n",
       "      <td>1.0</td>\n",
       "      <td>1.0</td>\n",
       "      <td>2.0</td>\n",
       "      <td>2004-11-10</td>\n",
       "      <td>0</td>\n",
       "    </tr>\n",
       "    <tr>\n",
       "      <th>1</th>\n",
       "      <td>Stu_001d187b1b375fe98b88696b250177f0</td>\n",
       "      <td>647501</td>\n",
       "      <td>46.0</td>\n",
       "      <td>0</td>\n",
       "      <td>2218</td>\n",
       "      <td>1.0</td>\n",
       "      <td>2.0</td>\n",
       "      <td>0.0</td>\n",
       "      <td>2004-11-10</td>\n",
       "      <td>1</td>\n",
       "    </tr>\n",
       "    <tr>\n",
       "      <th>2</th>\n",
       "      <td>Stu_001d187b1b375fe98b88696b250177f0</td>\n",
       "      <td>647792</td>\n",
       "      <td>70.0</td>\n",
       "      <td>1</td>\n",
       "      <td>3093</td>\n",
       "      <td>1.0</td>\n",
       "      <td>1.0</td>\n",
       "      <td>2.0</td>\n",
       "      <td>2004-11-10</td>\n",
       "      <td>0</td>\n",
       "    </tr>\n",
       "    <tr>\n",
       "      <th>3</th>\n",
       "      <td>Stu_001d187b1b375fe98b88696b250177f0</td>\n",
       "      <td>647792</td>\n",
       "      <td>22.0</td>\n",
       "      <td>1</td>\n",
       "      <td>3093</td>\n",
       "      <td>1.0</td>\n",
       "      <td>1.0</td>\n",
       "      <td>2.0</td>\n",
       "      <td>2004-11-10</td>\n",
       "      <td>0</td>\n",
       "    </tr>\n",
       "    <tr>\n",
       "      <th>4</th>\n",
       "      <td>Stu_001d187b1b375fe98b88696b250177f0</td>\n",
       "      <td>647792</td>\n",
       "      <td>2.0</td>\n",
       "      <td>1</td>\n",
       "      <td>3093</td>\n",
       "      <td>1.0</td>\n",
       "      <td>2.0</td>\n",
       "      <td>2.0</td>\n",
       "      <td>2004-11-10</td>\n",
       "      <td>0</td>\n",
       "    </tr>\n",
       "  </tbody>\n",
       "</table>\n",
       "</div>"
      ],
      "text/plain": [
       "                        Anon Student Id  Session Id  Duration (sec)  \\\n",
       "0  Stu_001d187b1b375fe98b88696b250177f0      647501           102.0   \n",
       "1  Stu_001d187b1b375fe98b88696b250177f0      647501            46.0   \n",
       "2  Stu_001d187b1b375fe98b88696b250177f0      647792            70.0   \n",
       "3  Stu_001d187b1b375fe98b88696b250177f0      647792            22.0   \n",
       "4  Stu_001d187b1b375fe98b88696b250177f0      647792             2.0   \n",
       "\n",
       "   Student Response Type  Problem Name  Problem View  Attempt At Step  \\\n",
       "0                      1          2218           1.0              1.0   \n",
       "1                      0          2218           1.0              2.0   \n",
       "2                      1          3093           1.0              1.0   \n",
       "3                      1          3093           1.0              1.0   \n",
       "4                      1          3093           1.0              2.0   \n",
       "\n",
       "   Outcome         Day  x  \n",
       "0      2.0  2004-11-10  0  \n",
       "1      0.0  2004-11-10  1  \n",
       "2      2.0  2004-11-10  0  \n",
       "3      2.0  2004-11-10  0  \n",
       "4      2.0  2004-11-10  0  "
      ]
     },
     "execution_count": 4,
     "metadata": {},
     "output_type": "execute_result"
    }
   ],
   "source": [
    "with gzip.open('data1.hdf.gz', 'rb') as f_in, open('data.hdf', 'wb') as f_out:\n",
    "    shutil.copyfileobj(f_in, f_out)\n",
    "\n",
    "!ls -lh data.hdf\n",
    "\n",
    "data = hdf_fixed_read_compress()\n",
    "data.head()"
   ]
  },
  {
   "cell_type": "markdown",
   "metadata": {},
   "source": [
    "**Note to reviewers**: this algorithm is quite slow (~45 minutes), so you may consider processing a substantial subset of data (e.g. processing 500,000 rows takes only ~1 minute)."
   ]
  },
  {
   "cell_type": "code",
   "execution_count": 5,
   "metadata": {
    "collapsed": true
   },
   "outputs": [],
   "source": [
    "def prepare_stud_data_new(df):\n",
    "\n",
    "    start_time = time.time()\n",
    "    stud_list = df['Anon Student Id'].unique()\n",
    "    cols=['num_sess', \\\n",
    "          'num_days', \\\n",
    "          'num_probs', \\\n",
    "          'num_atts', \\\n",
    "          'num_hints', \\\n",
    "          'frac_corr_atts', \\\n",
    "          'frac_3s_atts', \\\n",
    "          'frac_1s_hints', \\\n",
    "          'time_atts', \\\n",
    "          'time_hints', \\\n",
    "          'max_probl_views', \\\n",
    "          'max_atts']\n",
    "    \n",
    "    numbers = []\n",
    "    #stud_data = pd.DataFrame(columns=cols)\n",
    "    stud_info_df = pd.DataFrame()\n",
    "    i = 0\n",
    "    for stud_name in stud_list:\n",
    "        stud_info_df = df[df['Anon Student Id'] == stud_name].copy()\n",
    "\n",
    "        # total number of days loading the system\n",
    "        num_days = len(set(stud_info_df['Day']))\n",
    "\n",
    "        # total number of sessions opened\n",
    "        num_sessions = len(set(stud_info_df['Session Id']))\n",
    "\n",
    "        # total number of problems entered\n",
    "        num_problems = len(set(stud_info_df['Problem Name']))\n",
    "\n",
    "        # total number of attempts made by the student \n",
    "        num_attempts = stud_info_df[stud_info_df['Student Response Type'] == 0].shape[0]\n",
    "\n",
    "        # total number of hints made by the student \n",
    "        num_hints = stud_info_df[stud_info_df['Student Response Type'] == 1].shape[0]\n",
    "\n",
    "        # fraction of short attemps (with time <= 3 sec)\n",
    "        if (num_attempts > 0):\n",
    "            frac_3s_atts = stud_info_df[(stud_info_df['Student Response Type'] == 0) & (stud_info_df['Duration (sec)'] <= 3.0)].shape[0] / num_attempts\n",
    "        else:\n",
    "            frac_3s_atts = 0\n",
    "\n",
    "        # fraction of short hints (with time <= 1 sec)\n",
    "        if (num_hints > 0):\n",
    "            frac_1s_hints = stud_info_df[(stud_info_df['Student Response Type'] == 1) & (stud_info_df['Duration (sec)'] <= 1.0)].shape[0] / num_hints\n",
    "        else:\n",
    "            frac_1s_hints = 0\n",
    "\n",
    "        # fraction of correct attempts\n",
    "        if (num_attempts > 0):\n",
    "            fraction_correct_attempts = stud_info_df[(stud_info_df['Student Response Type'] == 0) & (stud_info_df['Outcome'] == 0)].shape[0] / num_attempts\n",
    "        else:\n",
    "            fraction_correct_attempts = 0\n",
    "\n",
    "        # total number of time spent for attempts (in seconds)\n",
    "        total_time_attempts = stud_info_df[stud_info_df['Student Response Type'] == 0]['Duration (sec)'].sum()\n",
    "\n",
    "        # total number of time spent for hints (in seconds)\n",
    "        total_time_hints = stud_info_df[stud_info_df['Student Response Type'] == 1]['Duration (sec)'].sum()\n",
    "\n",
    "        # averaged maximal numbers of 'Problem View'\n",
    "        avg_max_problem_views = stud_info_df[['Problem Name', 'Problem View']].groupby(['Problem Name']).agg(np.max).mean()[0]\n",
    "\n",
    "        # averaged maximal number of attempts ('x')\n",
    "        avg_max_attempts = stud_info_df[['Problem Name', 'x']].groupby(['Problem Name']).agg(np.max).mean()[0]\n",
    "\n",
    "        stud_name = i # assign unique numerical ID to each student \n",
    "\n",
    "        if num_attempts != 0:\n",
    "            avd_time_att = total_time_attempts / num_attempts\n",
    "        else:\n",
    "            avg_time_att = 0\n",
    "        if num_hints != 0:\n",
    "            avg_time_hint = total_time_hints / num_hints\n",
    "        else:\n",
    "            avg_time_hint = 0 \n",
    "        numbers.append([num_sessions, \\\n",
    "                                 num_days, \\\n",
    "                                 num_problems, \\\n",
    "                                 num_attempts, \\\n",
    "                                 num_hints, \\\n",
    "                                 fraction_correct_attempts, \\\n",
    "                                 frac_3s_atts, \\\n",
    "                                 frac_1s_hints, \\\n",
    "                                 total_time_attempts, \\\n",
    "                                 total_time_hints, \\\n",
    "                                 avg_max_problem_views, \\\n",
    "                                 avg_max_attempts])\n",
    "        print(\"\\r\\t>>> Progress\\t:{:.4%}\".format((i + 1)/len(stud_list)), end='')\n",
    "        i += 1\n",
    "    stud_data = pd.DataFrame(data=numbers, columns=cols)\n",
    "    end_time = time.time()\n",
    "    print(\"\\n\\t>>> Exec. time\\t:{}s\".format(end_time-start_time))\n",
    "    return stud_data"
   ]
  },
  {
   "cell_type": "markdown",
   "metadata": {},
   "source": [
    "Reading from the scratch instead:"
   ]
  },
  {
   "cell_type": "code",
   "execution_count": 6,
   "metadata": {
    "collapsed": true
   },
   "outputs": [],
   "source": [
    "#stud_data = prepare_stud_data_new(data.head(500000).copy())\n",
    "#stud_data = prepare_stud_data_new(data.copy())\n",
    "\n",
    "stud_data = pd.read_hdf('stud_data.hdf','test')"
   ]
  },
  {
   "cell_type": "markdown",
   "metadata": {},
   "source": [
    "Making backup for `stud_data` in HDF5 format:"
   ]
  },
  {
   "cell_type": "code",
   "execution_count": 7,
   "metadata": {
    "collapsed": true
   },
   "outputs": [],
   "source": [
    "#stud_data.to_hdf('stud_data.hdf','test',mode='w',complib='blosc')"
   ]
  },
  {
   "cell_type": "code",
   "execution_count": 8,
   "metadata": {},
   "outputs": [
    {
     "data": {
      "text/plain": [
       "(8980, 12)"
      ]
     },
     "execution_count": 8,
     "metadata": {},
     "output_type": "execute_result"
    }
   ],
   "source": [
    "stud_data.shape"
   ]
  },
  {
   "cell_type": "code",
   "execution_count": 9,
   "metadata": {},
   "outputs": [
    {
     "data": {
      "text/html": [
       "<div>\n",
       "<style>\n",
       "    .dataframe thead tr:only-child th {\n",
       "        text-align: right;\n",
       "    }\n",
       "\n",
       "    .dataframe thead th {\n",
       "        text-align: left;\n",
       "    }\n",
       "\n",
       "    .dataframe tbody tr th {\n",
       "        vertical-align: top;\n",
       "    }\n",
       "</style>\n",
       "<table border=\"1\" class=\"dataframe\">\n",
       "  <thead>\n",
       "    <tr style=\"text-align: right;\">\n",
       "      <th></th>\n",
       "      <th>num_sess</th>\n",
       "      <th>num_days</th>\n",
       "      <th>num_probs</th>\n",
       "      <th>num_atts</th>\n",
       "      <th>num_hints</th>\n",
       "      <th>frac_corr_atts</th>\n",
       "      <th>frac_3s_atts</th>\n",
       "      <th>frac_1s_hints</th>\n",
       "      <th>time_atts</th>\n",
       "      <th>time_hints</th>\n",
       "      <th>max_probl_views</th>\n",
       "      <th>max_atts</th>\n",
       "    </tr>\n",
       "  </thead>\n",
       "  <tbody>\n",
       "    <tr>\n",
       "      <th>count</th>\n",
       "      <td>8980.000000</td>\n",
       "      <td>8980.000000</td>\n",
       "      <td>8980.000000</td>\n",
       "      <td>8980.000000</td>\n",
       "      <td>8980.000000</td>\n",
       "      <td>8980.000000</td>\n",
       "      <td>8980.000000</td>\n",
       "      <td>8980.000000</td>\n",
       "      <td>8980.000000</td>\n",
       "      <td>8980.000000</td>\n",
       "      <td>8980.000000</td>\n",
       "      <td>8980.000000</td>\n",
       "    </tr>\n",
       "    <tr>\n",
       "      <th>mean</th>\n",
       "      <td>76.158129</td>\n",
       "      <td>5.767038</td>\n",
       "      <td>62.234298</td>\n",
       "      <td>213.419933</td>\n",
       "      <td>89.186192</td>\n",
       "      <td>0.562803</td>\n",
       "      <td>0.046694</td>\n",
       "      <td>0.052563</td>\n",
       "      <td>7621.217689</td>\n",
       "      <td>1511.659815</td>\n",
       "      <td>1.191333</td>\n",
       "      <td>3.606050</td>\n",
       "    </tr>\n",
       "    <tr>\n",
       "      <th>std</th>\n",
       "      <td>88.289228</td>\n",
       "      <td>4.898646</td>\n",
       "      <td>64.666099</td>\n",
       "      <td>234.867659</td>\n",
       "      <td>147.576020</td>\n",
       "      <td>0.155490</td>\n",
       "      <td>0.075056</td>\n",
       "      <td>0.096731</td>\n",
       "      <td>7433.529297</td>\n",
       "      <td>1694.585366</td>\n",
       "      <td>0.364244</td>\n",
       "      <td>1.941819</td>\n",
       "    </tr>\n",
       "    <tr>\n",
       "      <th>min</th>\n",
       "      <td>1.000000</td>\n",
       "      <td>1.000000</td>\n",
       "      <td>1.000000</td>\n",
       "      <td>0.000000</td>\n",
       "      <td>0.000000</td>\n",
       "      <td>0.000000</td>\n",
       "      <td>0.000000</td>\n",
       "      <td>0.000000</td>\n",
       "      <td>0.000000</td>\n",
       "      <td>0.000000</td>\n",
       "      <td>1.000000</td>\n",
       "      <td>0.000000</td>\n",
       "    </tr>\n",
       "    <tr>\n",
       "      <th>25%</th>\n",
       "      <td>13.000000</td>\n",
       "      <td>2.000000</td>\n",
       "      <td>11.000000</td>\n",
       "      <td>38.000000</td>\n",
       "      <td>9.000000</td>\n",
       "      <td>0.478962</td>\n",
       "      <td>0.000000</td>\n",
       "      <td>0.000000</td>\n",
       "      <td>1544.750000</td>\n",
       "      <td>273.000000</td>\n",
       "      <td>1.017241</td>\n",
       "      <td>2.433333</td>\n",
       "    </tr>\n",
       "    <tr>\n",
       "      <th>50%</th>\n",
       "      <td>44.000000</td>\n",
       "      <td>4.000000</td>\n",
       "      <td>40.000000</td>\n",
       "      <td>132.000000</td>\n",
       "      <td>32.000000</td>\n",
       "      <td>0.557991</td>\n",
       "      <td>0.021805</td>\n",
       "      <td>0.000000</td>\n",
       "      <td>5377.500000</td>\n",
       "      <td>893.000000</td>\n",
       "      <td>1.103175</td>\n",
       "      <td>3.319091</td>\n",
       "    </tr>\n",
       "    <tr>\n",
       "      <th>75%</th>\n",
       "      <td>110.000000</td>\n",
       "      <td>9.000000</td>\n",
       "      <td>95.000000</td>\n",
       "      <td>313.000000</td>\n",
       "      <td>105.000000</td>\n",
       "      <td>0.647806</td>\n",
       "      <td>0.061798</td>\n",
       "      <td>0.067568</td>\n",
       "      <td>11703.250000</td>\n",
       "      <td>2223.250000</td>\n",
       "      <td>1.244350</td>\n",
       "      <td>4.400000</td>\n",
       "    </tr>\n",
       "    <tr>\n",
       "      <th>max</th>\n",
       "      <td>1067.000000</td>\n",
       "      <td>55.000000</td>\n",
       "      <td>522.000000</td>\n",
       "      <td>2091.000000</td>\n",
       "      <td>2465.000000</td>\n",
       "      <td>1.000000</td>\n",
       "      <td>1.000000</td>\n",
       "      <td>1.000000</td>\n",
       "      <td>69259.000000</td>\n",
       "      <td>18370.000000</td>\n",
       "      <td>22.000000</td>\n",
       "      <td>46.000000</td>\n",
       "    </tr>\n",
       "  </tbody>\n",
       "</table>\n",
       "</div>"
      ],
      "text/plain": [
       "          num_sess     num_days    num_probs     num_atts    num_hints  \\\n",
       "count  8980.000000  8980.000000  8980.000000  8980.000000  8980.000000   \n",
       "mean     76.158129     5.767038    62.234298   213.419933    89.186192   \n",
       "std      88.289228     4.898646    64.666099   234.867659   147.576020   \n",
       "min       1.000000     1.000000     1.000000     0.000000     0.000000   \n",
       "25%      13.000000     2.000000    11.000000    38.000000     9.000000   \n",
       "50%      44.000000     4.000000    40.000000   132.000000    32.000000   \n",
       "75%     110.000000     9.000000    95.000000   313.000000   105.000000   \n",
       "max    1067.000000    55.000000   522.000000  2091.000000  2465.000000   \n",
       "\n",
       "       frac_corr_atts  frac_3s_atts  frac_1s_hints     time_atts  \\\n",
       "count     8980.000000   8980.000000    8980.000000   8980.000000   \n",
       "mean         0.562803      0.046694       0.052563   7621.217689   \n",
       "std          0.155490      0.075056       0.096731   7433.529297   \n",
       "min          0.000000      0.000000       0.000000      0.000000   \n",
       "25%          0.478962      0.000000       0.000000   1544.750000   \n",
       "50%          0.557991      0.021805       0.000000   5377.500000   \n",
       "75%          0.647806      0.061798       0.067568  11703.250000   \n",
       "max          1.000000      1.000000       1.000000  69259.000000   \n",
       "\n",
       "         time_hints  max_probl_views     max_atts  \n",
       "count   8980.000000      8980.000000  8980.000000  \n",
       "mean    1511.659815         1.191333     3.606050  \n",
       "std     1694.585366         0.364244     1.941819  \n",
       "min        0.000000         1.000000     0.000000  \n",
       "25%      273.000000         1.017241     2.433333  \n",
       "50%      893.000000         1.103175     3.319091  \n",
       "75%     2223.250000         1.244350     4.400000  \n",
       "max    18370.000000        22.000000    46.000000  "
      ]
     },
     "execution_count": 9,
     "metadata": {},
     "output_type": "execute_result"
    }
   ],
   "source": [
    "stud_data.describe()"
   ]
  },
  {
   "cell_type": "markdown",
   "metadata": {},
   "source": [
    "# Choosing a student subset for a sensitivity check\n",
    "## (note that this step updates `stud_data`):"
   ]
  },
  {
   "cell_type": "code",
   "execution_count": 10,
   "metadata": {},
   "outputs": [
    {
     "name": "stdout",
     "output_type": "stream",
     "text": [
      "0.1 1\n"
     ]
    }
   ],
   "source": [
    "print(test_size, random_state)\n",
    "stud_data_1, stud_data_2 = train_test_split(stud_data, test_size=test_size, random_state=random_state)"
   ]
  },
  {
   "cell_type": "code",
   "execution_count": 11,
   "metadata": {},
   "outputs": [
    {
     "data": {
      "text/plain": [
       "0.9"
      ]
     },
     "execution_count": 11,
     "metadata": {},
     "output_type": "execute_result"
    }
   ],
   "source": [
    "stud_data_1.shape[0]/stud_data.shape[0]"
   ]
  },
  {
   "cell_type": "code",
   "execution_count": 12,
   "metadata": {
    "collapsed": true
   },
   "outputs": [],
   "source": [
    "stud_data = stud_data_1"
   ]
  },
  {
   "cell_type": "markdown",
   "metadata": {},
   "source": [
    "## Clustering"
   ]
  },
  {
   "cell_type": "markdown",
   "metadata": {},
   "source": [
    "Write a new clustering algorithm that:\n",
    "- starts from stud_data or its subset (with monotonic index)\n",
    "- finds a 2-column set with the largest score (using KMeans) and renames it that 0 is the largest group, 1 is the second largest etc.\n",
    "- returns index file (with indices 0, 1, ) that could be used for further analysis"
   ]
  },
  {
   "cell_type": "code",
   "execution_count": 13,
   "metadata": {
    "collapsed": true
   },
   "outputs": [],
   "source": [
    "# old name: process_data\n",
    "def transform_data(selected_columns, data):\n",
    "    '''\n",
    "    Apply log-transform and MinMaxScaler() to the selected data columns which are not fractions (frac_*)\n",
    "    \n",
    "    Parameters\n",
    "    ==========\n",
    "    selected_columns : list\n",
    "        list of columns to leave in processed data\n",
    "    data : pandas.DataFrame\n",
    "        data to process (note that data should contain all selected_columns)\n",
    "        \n",
    "    Returns\n",
    "    =======\n",
    "    log_scaled_data : pandas.DataFrame\n",
    "        log-transformed and scaled data selected by selected_columns\n",
    "    '''\n",
    "    \n",
    "    data.reset_index(drop=True, inplace=True)\n",
    "    log_data = data[selected_columns].copy()\n",
    "    \n",
    "    skewed = log_data.columns.tolist()\n",
    "    skewed = [item for item in skewed if not item.startswith('frac_')]\n",
    "    log_data[skewed] = log_data[skewed].apply(lambda x: np.log10(x + 1))\n",
    "\n",
    "    scaler = MinMaxScaler().fit(log_data)\n",
    "    log_scaled_data = scaler.transform(log_data)\n",
    "    log_scaled_data = pd.DataFrame(log_scaled_data, columns=log_data.columns)\n",
    "    \n",
    "    return log_scaled_data"
   ]
  },
  {
   "cell_type": "code",
   "execution_count": 14,
   "metadata": {
    "collapsed": true
   },
   "outputs": [],
   "source": [
    "def replace_group_numbers(best_preds):\n",
    "    '''\n",
    "    Replace group numbers in best_preds with sorting by group size \n",
    "    (so that the largest group is 0, the second largest is 1 etc.)\n",
    "    \n",
    "    Parameters\n",
    "    ==========\n",
    "    best_preds : numpy array\n",
    "        unsorted array of predictions\n",
    "    \n",
    "    Returns\n",
    "    =======\n",
    "    best_preds_sorted : numpy array\n",
    "        sorted array of predictions\n",
    "    '''\n",
    "    \n",
    "    pp = pd.DataFrame(best_preds, columns = [\"old_group\"])\n",
    "    dict_pp = {item[0]: i for i, item in enumerate(Counter(best_preds).most_common())}\n",
    "    pp['new_group'] = pp['old_group'].replace(dict_pp)\n",
    "    best_preds_sorted = np.array(pp['new_group'])\n",
    "    return best_preds_sorted"
   ]
  },
  {
   "cell_type": "code",
   "execution_count": 15,
   "metadata": {
    "collapsed": true
   },
   "outputs": [],
   "source": [
    "def kmeans(log_scaled_data):\n",
    "    '''\n",
    "    Apply KMeans clustering algorithm with 2 <= cluster_number <= 6 to log_scaled_data \n",
    "    (transformed and scaled by transform_data() function)\n",
    "    \n",
    "    Parameters\n",
    "    ==========\n",
    "    log_scaled_data : pandas.DataFrame\n",
    "        data log-transormed and MinMaxScaler()-ed for KMeans clustering\n",
    "    \n",
    "    Returns\n",
    "    =======\n",
    "    best_clusterer : sklearn Model\n",
    "        clustering algorithm with the largest Silhouette Coefficient\n",
    "    best_score : float\n",
    "        the largest value of the Silhouette Coefficient\n",
    "    best_preds_sorted : numpy.array\n",
    "        array with clustering predictions for log_scaled_data \n",
    "        (0 is the largest cluster, 1 is the second largest etc.) \n",
    "    '''\n",
    "    \n",
    "    best_score = 0\n",
    "    for n_clusters in range(2,6):\n",
    "        clusterer = KMeans(n_clusters=n_clusters, n_init=10, random_state=0)\n",
    "        clusterer.fit(log_scaled_data)\n",
    "        preds = clusterer.predict(log_scaled_data)\n",
    "        # Calculate the mean silhouette coefficient for the number of clusters chosen\n",
    "        score = silhouette_score(log_scaled_data, preds)\n",
    "        if best_score < score:\n",
    "            best_clusterer = clusterer\n",
    "            # Predict the cluster for each data point\n",
    "            best_preds = best_clusterer.predict(log_scaled_data)\n",
    "            best_score = score\n",
    "            best_clusters = n_clusters\n",
    "    best_preds_sorted = replace_group_numbers(best_preds)\n",
    "    \n",
    "    return best_clusterer, best_score, best_preds_sorted"
   ]
  },
  {
   "cell_type": "markdown",
   "metadata": {},
   "source": [
    "Choose the pair of columns with best score:"
   ]
  },
  {
   "cell_type": "code",
   "execution_count": 16,
   "metadata": {
    "collapsed": true
   },
   "outputs": [],
   "source": [
    "all_columns = ['num_sess', 'num_days', 'num_probs', 'num_atts', 'num_hints', 'frac_corr_atts', \\\n",
    "                   'frac_3s_atts', 'frac_1s_hints', 'time_atts', 'time_hints', 'max_probl_views', 'max_atts']"
   ]
  },
  {
   "cell_type": "code",
   "execution_count": 17,
   "metadata": {
    "collapsed": true
   },
   "outputs": [],
   "source": [
    "def choose_pair_columns_kmeans(all_columns, log_scaled_all_data):\n",
    "    '''\n",
    "    Selects pair of columns in data that produces clusters with the largest score.\n",
    "    In this function, only KMeans clustering algorithm is used\n",
    "\n",
    "    Parameters\n",
    "    ==========\n",
    "    all_columns : list \n",
    "        list of columns to look for the pair with the largest score\n",
    "    log_scaled_data : pandas DataFrame\n",
    "        properly scaled DataFrame with all columns\n",
    "\n",
    "    Returns\n",
    "    =======\n",
    "    best_columns : list\n",
    "        pair of data columns with the largest score\n",
    "    best_score : float\n",
    "        the largest value of the score\n",
    "    best_clusterer : sklearn Model\n",
    "        clustering algorithm with the largest score\n",
    "    best_preds : numpy.array\n",
    "        array with clustering predictions for log_scaled_data \n",
    "        (0 is the largest cluster, 1 is the second largest etc.)    \n",
    "    '''\n",
    "    \n",
    "    best_score = 0\n",
    "    best_columns = []\n",
    "    j = 0\n",
    "    l = len(all_columns)\n",
    "    num_pairs = (l-1)*l/2\n",
    "    for column in all_columns:\n",
    "        selected_columns = [column]\n",
    "        \n",
    "        columns_to_add = [a for a in all_columns if (a not in selected_columns)]\n",
    "        for column1 in columns_to_add:\n",
    "            if all_columns.index(column) < all_columns.index(column1):\n",
    "                selected_columns = [column, column1]\n",
    "                print(\"\\r\\t>>> Progress\\t:{:.4%}\".format((j+1)/num_pairs), end='')\n",
    "                j += 1       \n",
    "                #log_scaled_data = transform_data(selected_columns, stud_data)\n",
    "                clusterer, score, preds = kmeans(log_scaled_all_data[selected_columns])\n",
    "                if score > best_score:\n",
    "                    best_score = score\n",
    "                    best_clusterer = clusterer\n",
    "                    best_preds = preds\n",
    "                    best_columns = selected_columns.copy()\n",
    "    \n",
    "    return best_columns, best_score, best_clusterer, best_preds"
   ]
  },
  {
   "cell_type": "code",
   "execution_count": 18,
   "metadata": {},
   "outputs": [
    {
     "name": "stdout",
     "output_type": "stream",
     "text": [
      "\t>>> Progress\t:100.0000%\n",
      "\t>>> Exec. time\t:330.8518445491791s\n",
      "\t>>> Best pair of cols: ['frac_1s_hints', 'max_probl_views']\n",
      "\t>>> Best score: 0.694172223804\n",
      "\t>>> Best clusterer: KMeans(algorithm='auto', copy_x=True, init='k-means++', max_iter=300,\n",
      "    n_clusters=2, n_init=10, n_jobs=1, precompute_distances='auto',\n",
      "    random_state=0, tol=0.0001, verbose=0)\n",
      "\t>>> Best preds: [0 0 0 ..., 0 0 1]\n"
     ]
    }
   ],
   "source": [
    "start_time = time.time()\n",
    "log_scaled_all_data = transform_data(all_columns, stud_data)\n",
    "\n",
    "# consider skipping the step below because it takes some time (~7.5 minites)\n",
    "best_columns, best_kmeans_score, best_kmeans_clusterer, best_kmeans_preds = choose_pair_columns_kmeans(all_columns, log_scaled_all_data)\n",
    "\n",
    "# Instead run it single time (6 seconds only)\n",
    "#best_columns = ['frac_1s_hints', 'max_probl_views']\n",
    "#best_kmeans_clusterer, best_kmeans_score, best_kmeans_preds = kmeans(log_scaled_all_data[best_columns]) \n",
    "\n",
    "end_time = time.time()\n",
    "print(\"\\n\\t>>> Exec. time\\t:{}s\".format(end_time-start_time))\n",
    "print(\"\\t>>> Best pair of cols:\", best_columns)\n",
    "print(\"\\t>>> Best score:\", best_kmeans_score)\n",
    "print(\"\\t>>> Best clusterer:\", best_kmeans_clusterer)\n",
    "print(\"\\t>>> Best preds:\", best_kmeans_preds)"
   ]
  },
  {
   "cell_type": "code",
   "execution_count": 19,
   "metadata": {
    "collapsed": true
   },
   "outputs": [],
   "source": [
    "def preds_to_indices(preds): # gives array and returns array of indices with 1s\n",
    "    new_list = []\n",
    "    for i, val in enumerate(preds):\n",
    "        if val == 1:\n",
    "            new_list.append(i)\n",
    "    return np.array(new_list)"
   ]
  },
  {
   "cell_type": "markdown",
   "metadata": {},
   "source": [
    "Visualising the KMeans clusters:"
   ]
  },
  {
   "cell_type": "code",
   "execution_count": 20,
   "metadata": {},
   "outputs": [
    {
     "data": {
      "text/html": [
       "<div>\n",
       "<style>\n",
       "    .dataframe thead tr:only-child th {\n",
       "        text-align: right;\n",
       "    }\n",
       "\n",
       "    .dataframe thead th {\n",
       "        text-align: left;\n",
       "    }\n",
       "\n",
       "    .dataframe tbody tr th {\n",
       "        vertical-align: top;\n",
       "    }\n",
       "</style>\n",
       "<table border=\"1\" class=\"dataframe\">\n",
       "  <thead>\n",
       "    <tr style=\"text-align: right;\">\n",
       "      <th></th>\n",
       "      <th>num_sess</th>\n",
       "      <th>num_days</th>\n",
       "      <th>num_probs</th>\n",
       "      <th>num_atts</th>\n",
       "      <th>num_hints</th>\n",
       "      <th>frac_corr_atts</th>\n",
       "      <th>frac_3s_atts</th>\n",
       "      <th>frac_1s_hints</th>\n",
       "      <th>time_atts</th>\n",
       "      <th>time_hints</th>\n",
       "      <th>max_probl_views</th>\n",
       "      <th>max_atts</th>\n",
       "    </tr>\n",
       "  </thead>\n",
       "  <tbody>\n",
       "    <tr>\n",
       "      <th>count</th>\n",
       "      <td>8082.000000</td>\n",
       "      <td>8082.000000</td>\n",
       "      <td>8082.000000</td>\n",
       "      <td>8082.000000</td>\n",
       "      <td>8082.000000</td>\n",
       "      <td>8082.000000</td>\n",
       "      <td>8082.000000</td>\n",
       "      <td>8082.000000</td>\n",
       "      <td>8082.000000</td>\n",
       "      <td>8082.000000</td>\n",
       "      <td>8082.000000</td>\n",
       "      <td>8082.000000</td>\n",
       "    </tr>\n",
       "    <tr>\n",
       "      <th>mean</th>\n",
       "      <td>0.468873</td>\n",
       "      <td>0.288691</td>\n",
       "      <td>0.504619</td>\n",
       "      <td>0.605270</td>\n",
       "      <td>0.438353</td>\n",
       "      <td>0.562197</td>\n",
       "      <td>0.046745</td>\n",
       "      <td>0.052929</td>\n",
       "      <td>0.738823</td>\n",
       "      <td>0.647246</td>\n",
       "      <td>0.034400</td>\n",
       "      <td>0.379500</td>\n",
       "    </tr>\n",
       "    <tr>\n",
       "      <th>std</th>\n",
       "      <td>0.212159</td>\n",
       "      <td>0.218771</td>\n",
       "      <td>0.230997</td>\n",
       "      <td>0.187426</td>\n",
       "      <td>0.207805</td>\n",
       "      <td>0.156272</td>\n",
       "      <td>0.075496</td>\n",
       "      <td>0.097493</td>\n",
       "      <td>0.138346</td>\n",
       "      <td>0.200221</td>\n",
       "      <td>0.045589</td>\n",
       "      <td>0.093618</td>\n",
       "    </tr>\n",
       "    <tr>\n",
       "      <th>min</th>\n",
       "      <td>0.000000</td>\n",
       "      <td>0.000000</td>\n",
       "      <td>0.000000</td>\n",
       "      <td>0.000000</td>\n",
       "      <td>0.000000</td>\n",
       "      <td>0.000000</td>\n",
       "      <td>0.000000</td>\n",
       "      <td>0.000000</td>\n",
       "      <td>0.000000</td>\n",
       "      <td>0.000000</td>\n",
       "      <td>0.000000</td>\n",
       "      <td>0.000000</td>\n",
       "    </tr>\n",
       "    <tr>\n",
       "      <th>25%</th>\n",
       "      <td>0.309839</td>\n",
       "      <td>0.121681</td>\n",
       "      <td>0.321886</td>\n",
       "      <td>0.475758</td>\n",
       "      <td>0.294812</td>\n",
       "      <td>0.478261</td>\n",
       "      <td>0.000000</td>\n",
       "      <td>0.000000</td>\n",
       "      <td>0.657811</td>\n",
       "      <td>0.572428</td>\n",
       "      <td>0.002884</td>\n",
       "      <td>0.320701</td>\n",
       "    </tr>\n",
       "    <tr>\n",
       "      <th>50%</th>\n",
       "      <td>0.495751</td>\n",
       "      <td>0.274980</td>\n",
       "      <td>0.542614</td>\n",
       "      <td>0.639606</td>\n",
       "      <td>0.447676</td>\n",
       "      <td>0.557724</td>\n",
       "      <td>0.022051</td>\n",
       "      <td>0.000000</td>\n",
       "      <td>0.770654</td>\n",
       "      <td>0.692415</td>\n",
       "      <td>0.020649</td>\n",
       "      <td>0.379909</td>\n",
       "    </tr>\n",
       "    <tr>\n",
       "      <th>75%</th>\n",
       "      <td>0.640939</td>\n",
       "      <td>0.482995</td>\n",
       "      <td>0.695454</td>\n",
       "      <td>0.753616</td>\n",
       "      <td>0.598287</td>\n",
       "      <td>0.647059</td>\n",
       "      <td>0.061798</td>\n",
       "      <td>0.068347</td>\n",
       "      <td>0.840533</td>\n",
       "      <td>0.785658</td>\n",
       "      <td>0.047114</td>\n",
       "      <td>0.438009</td>\n",
       "    </tr>\n",
       "    <tr>\n",
       "      <th>max</th>\n",
       "      <td>1.000000</td>\n",
       "      <td>1.000000</td>\n",
       "      <td>1.000000</td>\n",
       "      <td>1.000000</td>\n",
       "      <td>1.000000</td>\n",
       "      <td>1.000000</td>\n",
       "      <td>1.000000</td>\n",
       "      <td>1.000000</td>\n",
       "      <td>1.000000</td>\n",
       "      <td>1.000000</td>\n",
       "      <td>1.000000</td>\n",
       "      <td>1.000000</td>\n",
       "    </tr>\n",
       "  </tbody>\n",
       "</table>\n",
       "</div>"
      ],
      "text/plain": [
       "          num_sess     num_days    num_probs     num_atts    num_hints  \\\n",
       "count  8082.000000  8082.000000  8082.000000  8082.000000  8082.000000   \n",
       "mean      0.468873     0.288691     0.504619     0.605270     0.438353   \n",
       "std       0.212159     0.218771     0.230997     0.187426     0.207805   \n",
       "min       0.000000     0.000000     0.000000     0.000000     0.000000   \n",
       "25%       0.309839     0.121681     0.321886     0.475758     0.294812   \n",
       "50%       0.495751     0.274980     0.542614     0.639606     0.447676   \n",
       "75%       0.640939     0.482995     0.695454     0.753616     0.598287   \n",
       "max       1.000000     1.000000     1.000000     1.000000     1.000000   \n",
       "\n",
       "       frac_corr_atts  frac_3s_atts  frac_1s_hints    time_atts   time_hints  \\\n",
       "count     8082.000000   8082.000000    8082.000000  8082.000000  8082.000000   \n",
       "mean         0.562197      0.046745       0.052929     0.738823     0.647246   \n",
       "std          0.156272      0.075496       0.097493     0.138346     0.200221   \n",
       "min          0.000000      0.000000       0.000000     0.000000     0.000000   \n",
       "25%          0.478261      0.000000       0.000000     0.657811     0.572428   \n",
       "50%          0.557724      0.022051       0.000000     0.770654     0.692415   \n",
       "75%          0.647059      0.061798       0.068347     0.840533     0.785658   \n",
       "max          1.000000      1.000000       1.000000     1.000000     1.000000   \n",
       "\n",
       "       max_probl_views     max_atts  \n",
       "count      8082.000000  8082.000000  \n",
       "mean          0.034400     0.379500  \n",
       "std           0.045589     0.093618  \n",
       "min           0.000000     0.000000  \n",
       "25%           0.002884     0.320701  \n",
       "50%           0.020649     0.379909  \n",
       "75%           0.047114     0.438009  \n",
       "max           1.000000     1.000000  "
      ]
     },
     "execution_count": 20,
     "metadata": {},
     "output_type": "execute_result"
    }
   ],
   "source": [
    "log_scaled_all_data.describe()"
   ]
  },
  {
   "cell_type": "code",
   "execution_count": 21,
   "metadata": {},
   "outputs": [
    {
     "data": {
      "image/png": "[encoded data removed]",
      "text/plain": [
       "<matplotlib.figure.Figure at 0x7f379d2bc320>"
      ]
     },
     "metadata": {},
     "output_type": "display_data"
    }
   ],
   "source": [
    "best_kmeans_preds_mask = preds_to_indices(best_kmeans_preds)\n",
    "log_scaled_all_data_kmeans_0 = log_scaled_all_data.copy()[~log_scaled_all_data.index.isin(best_kmeans_preds_mask)]\n",
    "log_scaled_all_data_kmeans_1 = log_scaled_all_data.copy()[log_scaled_all_data.index.isin(best_kmeans_preds_mask)]\n",
    "plt.scatter(log_scaled_all_data_kmeans_0['frac_1s_hints'], \\\n",
    "            log_scaled_all_data_kmeans_0['max_probl_views'], \\\n",
    "            alpha=0.6, s=15, c='lightgreen')\n",
    "plt.scatter(log_scaled_all_data_kmeans_1['frac_1s_hints'], \\\n",
    "            log_scaled_all_data_kmeans_1['max_probl_views'], \\\n",
    "            alpha=0.6, s=15, c='grey')\n",
    "plt.xlim([0.0, 0.6])\n",
    "plt.ylim([0.0, 0.4])\n",
    "plt.figtext(x=0.64, y=0.56, s='Group 1', ha='center', size=14, color='black')\n",
    "plt.figtext(x=0.20, y=0.19, s='Group 0', ha='center', size=14, color='darkgreen')\n",
    "ax = plt.gca()\n",
    "ax.set_xlabel('frac_1s_hints', size=14)\n",
    "ax.set_ylabel('max_probl_views', size=14)\n",
    "plt.plot((0.14, 0.14), (0.001, 0.399), 'k--', c='blue')\n",
    "plt.show()"
   ]
  },
  {
   "cell_type": "code",
   "execution_count": 22,
   "metadata": {},
   "outputs": [
    {
     "name": "stdout",
     "output_type": "stream",
     "text": [
      "(6912, 12) (1170, 12)\n"
     ]
    }
   ],
   "source": [
    "print(log_scaled_all_data_kmeans_0.shape, log_scaled_all_data_kmeans_1.shape)"
   ]
  },
  {
   "cell_type": "markdown",
   "metadata": {},
   "source": [
    "Then, consider adding one more column to further increase the score:"
   ]
  },
  {
   "cell_type": "code",
   "execution_count": 23,
   "metadata": {
    "collapsed": true
   },
   "outputs": [],
   "source": [
    "def cols_iterate_kmeans(selected_columns, best_score, best_clusterer, best_preds):\n",
    "\n",
    "    all_columns = ['num_sess', 'num_days', 'num_probs', 'num_atts', \\\n",
    "                   'num_hints', 'frac_corr_atts', 'frac_3s_atts', 'frac_1s_hints', \\\n",
    "                   'time_atts', 'time_hints', 'max_probl_views', 'max_atts']\n",
    "\n",
    "    columns_to_add = [a for a in all_columns if (a not in selected_columns)]\n",
    "    #print(columns_to_add)\n",
    "    for column in columns_to_add:\n",
    "        print(\"*\"*40)\n",
    "        print(\"*** Trying to add column\", column)\n",
    "        print(\"*\"*40)\n",
    "        selected_columns.append(column)\n",
    "        log_scaled_data = transform_data(selected_columns, stud_data)\n",
    "        clusterer, score, preds = kmeans(log_scaled_data)\n",
    "        if score > best_score:\n",
    "            print(\"!!! Success !!!\")\n",
    "            best_score = score\n",
    "            best_clusterer = clusterer\n",
    "            best_preds = preds\n",
    "            print(\"!!! New score is\", best_score)\n",
    "            print(\"!!! New best clusterer is\", best_clusterer)\n",
    "            print(\"!!! New best selected_columns are\", selected_columns)\n",
    "            columns_to_add.remove(column)\n",
    "        else:\n",
    "            print(\"!!! Last score is equal or worse then our best one\")\n",
    "            print(\"!!! According to Occam's razor, remove the column\", column)\n",
    "            selected_columns.remove(column)\n",
    "            print(\"!!! Still the best selected columns are\", selected_columns)\n",
    "    return selected_columns, best_score, best_clusterer, best_preds"
   ]
  },
  {
   "cell_type": "code",
   "execution_count": 24,
   "metadata": {},
   "outputs": [
    {
     "name": "stdout",
     "output_type": "stream",
     "text": [
      "****************************************\n",
      "*** Trying to add column num_sess\n",
      "****************************************\n",
      "!!! Last score is equal or worse then our best one\n",
      "!!! According to Occam's razor, remove the column num_sess\n",
      "!!! Still the best selected columns are ['frac_1s_hints', 'max_probl_views']\n",
      "****************************************\n",
      "*** Trying to add column num_days\n",
      "****************************************\n",
      "!!! Last score is equal or worse then our best one\n",
      "!!! According to Occam's razor, remove the column num_days\n",
      "!!! Still the best selected columns are ['frac_1s_hints', 'max_probl_views']\n",
      "****************************************\n",
      "*** Trying to add column num_probs\n",
      "****************************************\n",
      "!!! Last score is equal or worse then our best one\n",
      "!!! According to Occam's razor, remove the column num_probs\n",
      "!!! Still the best selected columns are ['frac_1s_hints', 'max_probl_views']\n",
      "****************************************\n",
      "*** Trying to add column num_atts\n",
      "****************************************\n",
      "!!! Last score is equal or worse then our best one\n",
      "!!! According to Occam's razor, remove the column num_atts\n",
      "!!! Still the best selected columns are ['frac_1s_hints', 'max_probl_views']\n",
      "****************************************\n",
      "*** Trying to add column num_hints\n",
      "****************************************\n",
      "!!! Last score is equal or worse then our best one\n",
      "!!! According to Occam's razor, remove the column num_hints\n",
      "!!! Still the best selected columns are ['frac_1s_hints', 'max_probl_views']\n",
      "****************************************\n",
      "*** Trying to add column frac_corr_atts\n",
      "****************************************\n",
      "!!! Last score is equal or worse then our best one\n",
      "!!! According to Occam's razor, remove the column frac_corr_atts\n",
      "!!! Still the best selected columns are ['frac_1s_hints', 'max_probl_views']\n",
      "****************************************\n",
      "*** Trying to add column frac_3s_atts\n",
      "****************************************\n",
      "!!! Last score is equal or worse then our best one\n",
      "!!! According to Occam's razor, remove the column frac_3s_atts\n",
      "!!! Still the best selected columns are ['frac_1s_hints', 'max_probl_views']\n",
      "****************************************\n",
      "*** Trying to add column time_atts\n",
      "****************************************\n",
      "!!! Last score is equal or worse then our best one\n",
      "!!! According to Occam's razor, remove the column time_atts\n",
      "!!! Still the best selected columns are ['frac_1s_hints', 'max_probl_views']\n",
      "****************************************\n",
      "*** Trying to add column time_hints\n",
      "****************************************\n",
      "!!! Last score is equal or worse then our best one\n",
      "!!! According to Occam's razor, remove the column time_hints\n",
      "!!! Still the best selected columns are ['frac_1s_hints', 'max_probl_views']\n",
      "****************************************\n",
      "*** Trying to add column max_atts\n",
      "****************************************\n",
      "!!! Last score is equal or worse then our best one\n",
      "!!! According to Occam's razor, remove the column max_atts\n",
      "!!! Still the best selected columns are ['frac_1s_hints', 'max_probl_views']\n",
      "--- GIVE UP\n"
     ]
    }
   ],
   "source": [
    "# Just skip this step, it does not give new results:\n",
    "\n",
    "kmeans_clusterer = best_kmeans_clusterer\n",
    "kmeans_score = best_kmeans_score\n",
    "kmeans_preds = best_kmeans_preds\n",
    "\n",
    "selected_columns = best_columns # ['frac_1s_hints', 'max_probl_views']\n",
    "new_columns, new_kmeans_score, new_kmeans_clusterer, new_kmeans_preds = cols_iterate_kmeans(selected_columns, kmeans_score, kmeans_clusterer, kmeans_preds)\n",
    "if new_kmeans_score > kmeans_score:\n",
    "    print(\"+++ SUCCESS\")\n",
    "    selected_columns = new_columns\n",
    "    best_kmeans_score = new_kmeans_score\n",
    "    best_kmeans_clusterer = new_kmeans_clusterer\n",
    "    best_kmeans_preds = new_kmeans_preds\n",
    "else:\n",
    "    print(\"--- GIVE UP\")"
   ]
  },
  {
   "cell_type": "markdown",
   "metadata": {},
   "source": [
    "As expected, the pair ['frac_3s_atts', 'frac_1s_hints'] still gives the best score.\n",
    "\n",
    "Now, trying with different clusterers.\n",
    "\n",
    "MeanShift:"
   ]
  },
  {
   "cell_type": "code",
   "execution_count": 25,
   "metadata": {},
   "outputs": [
    {
     "name": "stdout",
     "output_type": "stream",
     "text": [
      "0.01 224 0.474558999253 0.25661964860183123\n",
      "0.02 140 0.422713042267 0.398787428854244\n",
      "0.03 96 0.43850426163 0.43627814897302647\n",
      "0.04 76 0.422976522547 0.4686958673595645\n",
      "0.05 62 0.493523653369 0.6643157634248948\n",
      "0.06 54 0.517791486232 0.7526602326156892\n",
      "0.07 43 0.510505397242 0.7629299678297451\n",
      "0.08 43 0.53939014281 0.771343726800297\n",
      "0.09 38 0.543176985048 0.7694877505567929\n",
      "0.1 39 0.502099959953 0.8011630784459293\n",
      "0.11 34 0.526270103895 0.7986884434545904\n",
      "0.12 27 0.517898795154 0.8512744370205395\n",
      "0.13 23 0.534018469212 0.8533778767631774\n",
      "0.14 24 0.524046507005 0.8617916357337293\n",
      "0.15 25 0.550301726321 0.8484286067804999\n",
      "0.16 22 0.548004349679 0.8569660975006187\n",
      "0.17 19 0.565025286908 0.858203414996288\n",
      "0.18 19 0.551371728602 0.8672358327146746\n",
      "0.19 18 0.550963197495 0.8668646374659738\n",
      "0.2 15 0.574603084431 0.8557287800049492\n",
      "0.21 15 0.585241721456 0.8631526849789656\n",
      "0.22 16 0.61629158235 0.8793615441722346\n",
      "0.23 14 0.638659487735 0.878619153674833\n",
      "0.24 16 0.612273395505 0.8749072011878248\n",
      "0.25 15 0.612126366628 0.8751546646869587\n",
      "0.26 13 0.548237326741 0.9146250927988122\n",
      "0.27 12 0.610811841501 0.9213066072754269\n",
      "0.28 12 0.602254454268 0.9339272457312546\n",
      "0.29 13 0.598190393208 0.9338035139816877\n",
      "0.3 13 0.598088902231 0.9339272457312546\n",
      "0.31 11 0.607342540597 0.9376391982182628\n",
      "0.32 12 0.563659780959 0.937268002969562\n",
      "0.33 11 0.564037048415 0.937268002969562\n",
      "0.34 12 0.571109673953 0.9383815887156645\n",
      "0.35 11 0.601007645931 0.937391734719129\n",
      "0.36 11 0.601007645931 0.937391734719129\n",
      "0.37 11 0.600844240105 0.9375154664686959\n",
      "0.38 11 0.600716734362 0.9377629299678297\n",
      "0.39 10 0.587528796986 0.9486513239297204\n",
      "0.4 10 0.588681878531 0.9490225191784212\n",
      "0.41 10 0.592744421152 0.9415986142044048\n",
      "0.42 9 0.591167060775 0.9592922543924771\n",
      "0.43 10 0.589533937222 0.949269982677555\n",
      "0.44 9 0.592566711971 0.9605295718881465\n",
      "0.45 9 0.592770779583 0.9601583766394457\n",
      "0.46 9 0.590831914145 0.9589210591437763\n",
      "0.47 9 0.590831914145 0.9589210591437763\n",
      "0.48 9 0.590831914145 0.9589210591437763\n",
      "0.49 9 0.591943649492 0.9590447908933433\n",
      "0.5 10 0.589305717337 0.949517446176689\n",
      "0.51 10 0.589305717337 0.949517446176689\n",
      "0.52 9 0.592892669515 0.9511259589210591\n",
      "0.53 9 0.592892669515 0.9511259589210591\n",
      "0.54 9 0.592892669515 0.9511259589210591\n",
      "0.55 9 0.592892669515 0.9511259589210591\n",
      "0.56 9 0.592800335264 0.9513734224201931\n",
      "0.57 9 0.609481751366 0.9470428111853502\n",
      "0.58 8 0.643425253917 0.951249690670626\n",
      "0.59 8 0.630953401254 0.9618906211333829\n",
      "0.6 8 0.630953401254 0.9618906211333829\n",
      "0.61 8 0.630953401254 0.9618906211333829\n",
      "0.62 8 0.630953401254 0.9618906211333829\n",
      "0.63 8 0.644598905999 0.9527344716654293\n",
      "0.64 7 0.65415041488 0.9529819351645632\n",
      "0.65 7 0.662849326668 0.9540955209106656\n",
      "0.66 7 0.654613818181 0.9521158129175946\n",
      "0.67 7 0.654613818181 0.9521158129175946\n",
      "0.68 7 0.634927576449 0.9600346448898788\n",
      "0.69 5 0.71457110405 0.9757485770848799\n",
      "0.7 5 0.71457110405 0.9757485770848799\n",
      "0.71 5 0.714995376045 0.9759960405840139\n",
      "0.72 5 0.714995376045 0.9759960405840139\n",
      "0.73 4 0.747421213075 0.9931947537738184\n",
      "0.74 4 0.747421213075 0.9931947537738184\n",
      "0.75 4 0.747421213075 0.9931947537738184\n",
      "0.76 5 0.715216335042 0.9762435040831478\n",
      "0.77 4 0.725076401102 0.9894828012868102\n",
      "0.78 5 0.71561047337 0.9763672358327147\n",
      "0.79 5 0.71599367667 0.9764909675822816\n",
      "0.8 5 0.715920585532 0.9766146993318485\n",
      "0.81 5 0.715890431782 0.9767384310814154\n",
      "0.82 4 0.724610954177 0.9897302647859441\n",
      "0.83 4 0.725444211037 0.9899777282850779\n",
      "0.84 4 0.753991661216 0.993813412521653\n",
      "0.85 4 0.754032933354 0.99393714427122\n",
      "0.86 3 0.82259403039 0.9956693887651571\n",
      "0.87 4 0.728677276155 0.9904726552833457\n",
      "0.88 4 0.729054091778 0.9905963870329126\n",
      "0.89 4 0.730343099941 0.9909675822816134\n",
      "0.9 4 0.730343099941 0.9909675822816134\n",
      "0.91 4 0.730570410359 0.9865132392972037\n",
      "0.92 3 0.82259403039 0.9956693887651571\n",
      "0.93 2 0.900253628102 0.9997525365008662\n",
      "0.94 3 0.803174530497 0.9930710220242515\n",
      "0.95 3 0.82259403039 0.9956693887651571\n",
      "0.96 2 0.900253628102 0.9997525365008662\n",
      "0.97 2 0.900253628102 0.9997525365008662\n",
      "0.98 2 0.900253628102 0.9997525365008662\n",
      "0.99 2 0.900253628102 0.9997525365008662\n",
      "********************************************************************\n",
      "Our best model has 25 clusters and sihlouette is 0.550301726321\n",
      "Running time is 589.2010474205017s\n",
      ">>>>>>>>>>>>>>>>>>>>>>>>>>>>>>>>>>>>>>>>>>>>>>>>>>>>>>>>>>>>>>>>>>>>\n",
      "MeanShift(bandwidth=0.046142897746840737, bin_seeding=True, cluster_all=True,\n",
      "     min_bin_freq=1, n_jobs=1, seeds=None) 0.550301726321 [0 0 0 ..., 0 0 2]\n",
      "Running time is 589.2184863090515s\n"
     ]
    }
   ],
   "source": [
    "def largest_cluster_fraction(preds):\n",
    "    '''\n",
    "    calculates the fraction of students that are in the largest group\n",
    "    \n",
    "    Parameters\n",
    "    ==========\n",
    "    preds : list\n",
    "        list of predictions\n",
    "    \n",
    "    Returns\n",
    "    =======\n",
    "    fraction : float\n",
    "        largest fraction of students\n",
    "    best_i : integer\n",
    "        number of the largest group\n",
    "    '''\n",
    "    \n",
    "    fraction = 0\n",
    "    ll = len(preds)\n",
    "    for i in np.unique(preds):\n",
    "        frac = len(preds[preds == i])/ll\n",
    "        if frac > fraction:\n",
    "            fraction = frac\n",
    "            best_i = i\n",
    "    return fraction, best_i\n",
    "\n",
    "# Rewrite similar to kmeans procedure !!!\n",
    "\n",
    "def meanshift(log_scaled_data):\n",
    "    '''\n",
    "    Apply MeanShift clustering algorithm to log_scaled_data\n",
    "    (transformed and scaled by transform_data() function)\n",
    "    Number of clusters is selected according to estimate_badwidth procedure\n",
    "    with quantiles in np.linspace(0.01, 0.99, 99)\n",
    "    \n",
    "    \n",
    "    Parameters\n",
    "    ==========\n",
    "    log_scaled_data : pandas.DataFrame\n",
    "        data log-transormed and MinMaxScaler()-ed for KMeans clustering\n",
    "    \n",
    "    Returns\n",
    "    =======\n",
    "    best_clusterer : sklearn Model\n",
    "        clustering algorithm with the largest Silhouette Coefficient\n",
    "    best_score : float\n",
    "        the largest value of the Silhouette Coefficient\n",
    "    best_preds_sorted : numpy.array\n",
    "        array with clustering predictions for log_scaled_data \n",
    "        (0 is the largest cluster, 1 is the second largest etc.) \n",
    "    cluster_frac : float\n",
    "        fraction of students inside the largest group\n",
    "    '''\n",
    "\n",
    "    start_time = time.time()\n",
    "    best_score = 0\n",
    "    best_cluster_frac = 0\n",
    "    for alpha in np.linspace(0.01, 0.99, 99):\n",
    "        bandwidth = estimate_bandwidth(log_scaled_data, quantile=alpha, n_samples=None, random_state=0)\n",
    "\n",
    "        clusterer = MeanShift(bandwidth=bandwidth, bin_seeding=True)\n",
    "        clusterer.fit(log_scaled_data)\n",
    "\n",
    "        preds = clusterer.fit_predict(log_scaled_data)\n",
    "        cluster_frac = largest_cluster_fraction(preds)[0]\n",
    "        # Calculate the mean silhouette coefficient for the number of clusters chosen\n",
    "        try: \n",
    "            score = silhouette_score(log_scaled_data, preds)\n",
    "        except ValueError:\n",
    "            score = 0\n",
    "        print(alpha, clusterer.cluster_centers_.shape[0], score, cluster_frac)\n",
    "        # setting cluster_frac > 0.85, the value obtained in KMeans algorithm for ['frac_1s_hints', 'max_probl_views']\n",
    "        if (best_score < score) and (cluster_frac < 0.85):\n",
    "            best_clusterer = clusterer\n",
    "            best_preds = preds\n",
    "            best_score = score\n",
    "            best_clusters = clusterer.cluster_centers_.shape[0]\n",
    "            best_cluster_frac = cluster_frac\n",
    "    print('*'*68)\n",
    "    print(\"Our best model has\", best_clusters, \"clusters and sihlouette is\", best_score)\n",
    "    end_time = time.time()\n",
    "    print(\"Running time is {}s\".format(end_time-start_time))\n",
    "    print('>'*68)\n",
    "    best_preds_sorted = replace_group_numbers(best_preds)\n",
    "    cluster_frac = best_cluster_frac\n",
    "    \n",
    "    return best_clusterer, best_score, best_preds_sorted, cluster_frac\n",
    "\n",
    "# Rinning MeanShift is too slow: runs about 9 min for 1 pair, \n",
    "# and produces too bad results (largest score = 0.55 for reasonable max_fractions < 0.85)\n",
    "\n",
    "start_time = time.time()\n",
    "log_scaled_data = transform_data(best_columns, stud_data)\n",
    "best_meanshift_clusterer, best_meanshift_score, best_meanshift_preds, _ = meanshift(log_scaled_data)\n",
    "print(best_meanshift_clusterer, best_meanshift_score, best_meanshift_preds)\n",
    "end_time = time.time()\n",
    "print(\"Running time is {}s\".format(end_time-start_time))"
   ]
  },
  {
   "cell_type": "markdown",
   "metadata": {},
   "source": [
    "GaussianMixture:"
   ]
  },
  {
   "cell_type": "code",
   "execution_count": 26,
   "metadata": {},
   "outputs": [
    {
     "name": "stdout",
     "output_type": "stream",
     "text": [
      ">>> GaussianMixture:\n",
      "For our model with 2 clusters, the sihlouette score is 0.355638522492\n",
      "For our model with 3 clusters, the sihlouette score is 0.374150793764\n",
      "For our model with 4 clusters, the sihlouette score is 0.370338973158\n",
      "For our model with 5 clusters, the sihlouette score is 0.388947509163\n",
      "********************************************************************\n",
      "Our best model has 5 clusters and sihlouette is 0.388947509163\n",
      "Running time is 20.52184796333313s\n",
      ">>>>>>>>>>>>>>>>>>>>>>>>>>>>>>>>>>>>>>>>>>>>>>>>>>>>>>>>>>>>>>>>>>>>\n",
      "Best clusterer is GaussianMixture(covariance_type='full', init_params='kmeans', max_iter=100,\n",
      "        means_init=None, n_components=5, n_init=50, precisions_init=None,\n",
      "        random_state=0, reg_covar=1e-06, tol=0.001, verbose=0,\n",
      "        verbose_interval=10, warm_start=False, weights_init=None)\n",
      "Max score is 0.388947509163\n",
      "Best preds is [1 0 1 ..., 0 3 2]\n",
      "GaussianMixture(covariance_type='full', init_params='kmeans', max_iter=100,\n",
      "        means_init=None, n_components=5, n_init=50, precisions_init=None,\n",
      "        random_state=0, reg_covar=1e-06, tol=0.001, verbose=0,\n",
      "        verbose_interval=10, warm_start=False, weights_init=None) 0.388947509163 [1 0 1 ..., 0 3 2]\n",
      "Running time is 20.54615306854248s\n"
     ]
    }
   ],
   "source": [
    "def gaussmix(log_scaled_data): # GaussianMixture\n",
    "    start_time = time.time()\n",
    "    max_score = 0\n",
    "    for n_clusters in range(2,6):\n",
    "\n",
    "        clusterer = GaussianMixture(random_state=0, n_init=50, n_components=n_clusters).fit(log_scaled_data)\n",
    "\n",
    "        preds = clusterer.predict(log_scaled_data)\n",
    "    # Calculate the mean silhouette coefficient for the number of clusters chosen\n",
    "        score = silhouette_score(log_scaled_data, preds)\n",
    "        print(\"For our model with\", clusterer.n_components, \"clusters, the sihlouette score is\", score)\n",
    "        if max_score < score:\n",
    "            best_clusterer = clusterer\n",
    "            # Predict the cluster for each data point\n",
    "            best_preds = best_clusterer.predict(log_scaled_data)\n",
    "            max_score = score\n",
    "            best_clusters = n_clusters\n",
    "    print('*'*68)\n",
    "    print(\"Our best model has\", best_clusters, \"clusters and sihlouette is\", max_score)\n",
    "    end_time = time.time()\n",
    "    print(\"Running time is {}s\".format(end_time-start_time))\n",
    "    print('>'*68)\n",
    "    best_preds_sorted = replace_group_numbers(best_preds)\n",
    "    return best_clusterer, max_score, best_preds_sorted\n",
    "\n",
    "def run_clustering_gaussmix(log_scaled_data):\n",
    "    best_score = 0\n",
    "    print(\">>> GaussianMixture:\")\n",
    "    clusterer, score, preds = gaussmix(log_scaled_data)\n",
    "    if score > best_score:\n",
    "        best_clusterer = clusterer\n",
    "        best_score = score\n",
    "        best_preds = preds\n",
    "    print(\"Best clusterer is\", best_clusterer)\n",
    "    print(\"Max score is\", best_score)\n",
    "    print(\"Best preds is\", best_preds)\n",
    "    return best_clusterer, best_score, best_preds\n",
    "\n",
    "# ~0.3 min running time but very small score (~0.39)\n",
    "start_time = time.time()\n",
    "log_scaled_data = transform_data(best_columns, stud_data)\n",
    "gaussmix_best_clusterer, gaussmix_best_score, gaussmix_best_preds = run_clustering_gaussmix(log_scaled_data)\n",
    "print(gaussmix_best_clusterer, gaussmix_best_score, gaussmix_best_preds)\n",
    "end_time = time.time()\n",
    "print(\"Running time is {}s\".format(end_time-start_time))"
   ]
  },
  {
   "cell_type": "markdown",
   "metadata": {},
   "source": [
    "AgglomerativeClustering:"
   ]
  },
  {
   "cell_type": "code",
   "execution_count": 27,
   "metadata": {},
   "outputs": [
    {
     "name": "stdout",
     "output_type": "stream",
     "text": [
      ">>> AgglomerativeClustering:\n",
      "For our model with 2 clusters, and the sihlouette score is 0.70213357231\n",
      "********************************************************************\n",
      "Our best model has 2 clusters and sihlouette is 0.70213357231\n",
      "Running time is 13.962146997451782s\n",
      ">>>>>>>>>>>>>>>>>>>>>>>>>>>>>>>>>>>>>>>>>>>>>>>>>>>>>>>>>>>>>>>>>>>>\n",
      "Best clusterer is AgglomerativeClustering(affinity='euclidean', compute_full_tree='auto',\n",
      "            connectivity=<8082x8082 sparse matrix of type '<class 'numpy.float64'>'\n",
      "\twith 1064424 stored elements in Compressed Sparse Row format>,\n",
      "            linkage='ward', memory=None, n_clusters=2,\n",
      "            pooling_func=<function mean at 0x7f37c800b6a8>)\n",
      "Max score is 0.70213357231\n",
      "Best preds is [0 0 0 ..., 0 0 1]\n",
      "AgglomerativeClustering(affinity='euclidean', compute_full_tree='auto',\n",
      "            connectivity=<8082x8082 sparse matrix of type '<class 'numpy.float64'>'\n",
      "\twith 1064424 stored elements in Compressed Sparse Row format>,\n",
      "            linkage='ward', memory=None, n_clusters=2,\n",
      "            pooling_func=<function mean at 0x7f37c800b6a8>) 0.70213357231 [0 0 0 ..., 0 0 1]\n",
      "Running time is 13.976743221282959s\n"
     ]
    }
   ],
   "source": [
    "def agglom(log_scaled_data): # AgglomerativeClustering with 'ward' connectivity\n",
    "    start_time = time.time()\n",
    "    max_score = 0\n",
    "    for n_clusters in range(2,3): # use only 2 clusters\n",
    "        connectivity = kneighbors_graph(log_scaled_data, n_neighbors=100, include_self=False)\n",
    "        # make connectivity symmetric\n",
    "        connectivity = 0.5 * (connectivity + connectivity.T)\n",
    "        clusterer = AgglomerativeClustering(n_clusters=n_clusters, \\\n",
    "                                          linkage='ward', \\\n",
    "                                          connectivity=connectivity)\n",
    "\n",
    "        preds = clusterer.fit_predict(log_scaled_data)\n",
    "        # Calculate the mean silhouette coefficient for the number of clusters chosen\n",
    "        score = silhouette_score(log_scaled_data, preds)\n",
    "        print(\"For our model with\", clusterer.n_clusters, \"clusters, and the sihlouette score is\", score)\n",
    "        if max_score < score:\n",
    "            best_clusterer = clusterer\n",
    "            # Predict the cluster for each data point\n",
    "            best_preds = preds\n",
    "            max_score = score\n",
    "            best_clusters = n_clusters\n",
    "    print('*'*68)\n",
    "    print(\"Our best model has\", best_clusters, \"clusters and sihlouette is\", max_score)\n",
    "    end_time = time.time()\n",
    "    print(\"Running time is {}s\".format(end_time-start_time))\n",
    "    print('>'*68)\n",
    "    best_preds_sorted = replace_group_numbers(best_preds)\n",
    "    return best_clusterer, max_score, best_preds_sorted\n",
    "\n",
    "def run_clustering_agglom(log_scaled_data):\n",
    "    best_score = 0\n",
    "    print(\">>> AgglomerativeClustering:\")\n",
    "    clusterer, score, preds = agglom(log_scaled_data)\n",
    "    if score > best_score:\n",
    "        best_clusterer = clusterer\n",
    "        best_score = score\n",
    "        best_preds = preds\n",
    "    print(\"Best clusterer is\", best_clusterer)\n",
    "    print(\"Max score is\", best_score)\n",
    "    print(\"Best preds is\", best_preds)\n",
    "    return best_clusterer, best_score, best_preds\n",
    "\n",
    "# Gives results very similar to KMeans but takes ~4 times more running time\n",
    "start_time = time.time()\n",
    "log_scaled_data = transform_data(best_columns, stud_data)\n",
    "best_agglom_clusterer, best_agglom_score, best_agglom_preds = run_clustering_agglom(log_scaled_data)\n",
    "print(best_agglom_clusterer, best_agglom_score, best_agglom_preds)\n",
    "end_time = time.time()\n",
    "print(\"Running time is {}s\".format(end_time-start_time))"
   ]
  },
  {
   "cell_type": "markdown",
   "metadata": {},
   "source": [
    "Visualising the AgglomerativeClustering clusters:"
   ]
  },
  {
   "cell_type": "code",
   "execution_count": 28,
   "metadata": {},
   "outputs": [
    {
     "data": {
      "image/png": "[encoded data removed]",
      "text/plain": [
       "<matplotlib.figure.Figure at 0x7f37984b4278>"
      ]
     },
     "metadata": {},
     "output_type": "display_data"
    }
   ],
   "source": [
    "best_agglom_preds_mask = preds_to_indices(best_agglom_preds)\n",
    "log_scaled_data_agglom_0 = log_scaled_data.copy()[~log_scaled_data.index.isin(best_agglom_preds_mask)]\n",
    "log_scaled_data_agglom_1 = log_scaled_data.copy()[log_scaled_data.index.isin(best_agglom_preds_mask)]\n",
    "plt.scatter(log_scaled_data_agglom_0['frac_1s_hints'], \\\n",
    "            log_scaled_data_agglom_0['max_probl_views'], \\\n",
    "            alpha=0.6, s=15, c='lightgreen')\n",
    "plt.scatter(log_scaled_data_agglom_1['frac_1s_hints'], \\\n",
    "            log_scaled_data_agglom_1['max_probl_views'], \\\n",
    "            alpha=0.6, s=15, c='grey')\n",
    "plt.xlim([0.0, 0.6])\n",
    "plt.ylim([0.0, 0.4])\n",
    "plt.figtext(x=0.64, y=0.56, s='Group 1', ha='center', size=14, color='black')\n",
    "plt.figtext(x=0.20, y=0.19, s='Group 0', ha='center', size=14, color='darkgreen')\n",
    "ax = plt.gca()\n",
    "ax.set_xlabel('frac_1s_hints', size=14)\n",
    "ax.set_ylabel('max_probl_views', size=14)\n",
    "#plt.plot((0.145, 0.145), (0.001, 0.399), 'k--', c='blue')\n",
    "plt.show()"
   ]
  },
  {
   "cell_type": "markdown",
   "metadata": {},
   "source": [
    "# Further clustering of obtained KMeans groups:"
   ]
  },
  {
   "cell_type": "markdown",
   "metadata": {},
   "source": [
    "I start from group 0 that contains 6912 students:"
   ]
  },
  {
   "cell_type": "code",
   "execution_count": 29,
   "metadata": {},
   "outputs": [
    {
     "data": {
      "text/plain": [
       "RangeIndex(start=0, stop=6912, step=1)"
      ]
     },
     "execution_count": 29,
     "metadata": {},
     "output_type": "execute_result"
    }
   ],
   "source": [
    "best_kmeans_preds_mask = preds_to_indices(best_kmeans_preds)\n",
    "log_scaled_all_data_kmeans_0 = log_scaled_all_data.copy()[~log_scaled_all_data.index.isin(best_kmeans_preds_mask)]\n",
    "\n",
    "# In this particular splitting, take drop=False to save the initial index\n",
    "# (simplifying students recovery for step 2)\n",
    "log_scaled_all_data_kmeans_0.reset_index(inplace=True, drop=False)\n",
    "\n",
    "log_scaled_all_data_kmeans_0.index"
   ]
  },
  {
   "cell_type": "code",
   "execution_count": 30,
   "metadata": {},
   "outputs": [
    {
     "name": "stdout",
     "output_type": "stream",
     "text": [
      "\t>>> Progress\t:100.0000%\n",
      "\t>>> Exec. time\t:376.5372142791748s\n",
      "\t>>> Best pair of cols: ['frac_3s_atts', 'max_probl_views']\n",
      "\t>>> Best score: 0.714078926857\n",
      "\t>>> Best clusterer: KMeans(algorithm='auto', copy_x=True, init='k-means++', max_iter=300,\n",
      "    n_clusters=2, n_init=10, n_jobs=1, precompute_distances='auto',\n",
      "    random_state=0, tol=0.0001, verbose=0)\n",
      "\t>>> Best preds: [0 0 0 ..., 0 0 0]\n"
     ]
    }
   ],
   "source": [
    "start_time = time.time()\n",
    "\n",
    "best_kmeans_columns_0, \\\n",
    "best_kmeans_score_0, \\\n",
    "best_kmeans_clusterer_0, \\\n",
    "best_kmeans_preds_0 = choose_pair_columns_kmeans(all_columns, log_scaled_all_data_kmeans_0)\n",
    "\n",
    "# best_kmeans_columns_0 = ['frac_3s_atts', 'max_probl_views']\n",
    "# best_kmeans_clusterer_0, best_kmeans_score_0, best_kmeans_preds_0 = kmeans(log_scaled_all_data_kmeans_0[best_kmeans_columns_0]) \n",
    "\n",
    "end_time = time.time()\n",
    "print(\"\\n\\t>>> Exec. time\\t:{}s\".format(end_time-start_time))\n",
    "print(\"\\t>>> Best pair of cols:\", best_kmeans_columns_0)\n",
    "print(\"\\t>>> Best score:\", best_kmeans_score_0)\n",
    "print(\"\\t>>> Best clusterer:\", best_kmeans_clusterer_0)\n",
    "print(\"\\t>>> Best preds:\", best_kmeans_preds_0)"
   ]
  },
  {
   "cell_type": "code",
   "execution_count": 31,
   "metadata": {},
   "outputs": [
    {
     "name": "stdout",
     "output_type": "stream",
     "text": [
      "350 6912 6562\n"
     ]
    }
   ],
   "source": [
    "print(sum(best_kmeans_preds_0), len(best_kmeans_preds_0), len(best_kmeans_preds_0[best_kmeans_preds_0 == 0]))"
   ]
  },
  {
   "cell_type": "code",
   "execution_count": 32,
   "metadata": {
    "collapsed": true
   },
   "outputs": [],
   "source": [
    "log_scaled_all_data_kmeans_0.reset_index(inplace=True, drop=True)"
   ]
  },
  {
   "cell_type": "markdown",
   "metadata": {},
   "source": [
    "\n",
    "Visualise obtained clusters:"
   ]
  },
  {
   "cell_type": "code",
   "execution_count": 33,
   "metadata": {},
   "outputs": [
    {
     "data": {
      "image/png": "[encoded data removed]",
      "text/plain": [
       "<matplotlib.figure.Figure at 0x7f3784083710>"
      ]
     },
     "metadata": {},
     "output_type": "display_data"
    }
   ],
   "source": [
    "best_kmeans_preds_mask_0 = preds_to_indices(best_kmeans_preds_0)\n",
    "\n",
    "log_scaled_all_data_kmeans_00 = log_scaled_all_data_kmeans_0.copy()[~log_scaled_all_data_kmeans_0.index.isin(best_kmeans_preds_mask_0)]\n",
    "\n",
    "log_scaled_all_data_kmeans_01 = log_scaled_all_data_kmeans_0.copy()[log_scaled_all_data_kmeans_0.index.isin(best_kmeans_preds_mask_0)]\n",
    "\n",
    "plt.scatter(log_scaled_all_data_kmeans_00[best_kmeans_columns_0[0]], \\\n",
    "            log_scaled_all_data_kmeans_00[best_kmeans_columns_0[1]], \\\n",
    "            alpha=0.6, s=15, c='lightgreen')\n",
    "plt.scatter(log_scaled_all_data_kmeans_01[best_kmeans_columns_0[0]], \\\n",
    "            log_scaled_all_data_kmeans_01[best_kmeans_columns_0[1]], \\\n",
    "            alpha=0.6, s=15, c='grey')\n",
    "# plt.xlim([0.0, 0.6])\n",
    "# plt.ylim([0.0, 0.4])\n",
    "# plt.figtext(x=0.64, y=0.56, s='Group 01', ha='center', size=14, color='black')\n",
    "# plt.figtext(x=0.20, y=0.69, s='Group 00', ha='center', size=14, color='darkgreen')\n",
    "ax = plt.gca()\n",
    "ax.set_xlabel(best_kmeans_columns_0[0], size=14)\n",
    "ax.set_ylabel(best_kmeans_columns_0[1], size=14)\n",
    "#plt.plot((0.13, 0.13), (0.001, 0.499), 'k--', c='blue')\n",
    "plt.show()"
   ]
  },
  {
   "cell_type": "markdown",
   "metadata": {},
   "source": [
    "As we see, group 01 contains more students with \"gaming\" behaviour, so I proceed with group 00:"
   ]
  },
  {
   "cell_type": "code",
   "execution_count": 34,
   "metadata": {},
   "outputs": [
    {
     "data": {
      "text/plain": [
       "6912"
      ]
     },
     "execution_count": 34,
     "metadata": {},
     "output_type": "execute_result"
    }
   ],
   "source": [
    "len(best_kmeans_preds_0)"
   ]
  },
  {
   "cell_type": "code",
   "execution_count": 35,
   "metadata": {},
   "outputs": [
    {
     "data": {
      "text/plain": [
       "RangeIndex(start=0, stop=6562, step=1)"
      ]
     },
     "execution_count": 35,
     "metadata": {},
     "output_type": "execute_result"
    }
   ],
   "source": [
    "#best_kmeans_preds_mask_0 = preds_to_indices(best_kmeans_preds_0) # already implemented during group0 visualisation\n",
    "log_scaled_all_data_kmeans_00 = log_scaled_all_data_kmeans_0.copy()[~log_scaled_all_data_kmeans_0.index.isin(best_kmeans_preds_mask_0)]\n",
    "\n",
    "log_scaled_all_data_kmeans_00.reset_index(inplace=True, drop=True)\n",
    "\n",
    "log_scaled_all_data_kmeans_00.index"
   ]
  },
  {
   "cell_type": "code",
   "execution_count": 36,
   "metadata": {},
   "outputs": [
    {
     "name": "stdout",
     "output_type": "stream",
     "text": [
      "\t>>> Progress\t:100.0000%\n",
      "\t>>> Exec. time\t:217.18768787384033s\n",
      "\t>>> Best pair of cols: ['frac_3s_atts', 'time_hints']\n",
      "\t>>> Best score: 0.647636346739\n",
      "\t>>> Best clusterer: KMeans(algorithm='auto', copy_x=True, init='k-means++', max_iter=300,\n",
      "    n_clusters=2, n_init=10, n_jobs=1, precompute_distances='auto',\n",
      "    random_state=0, tol=0.0001, verbose=0)\n",
      "\t>>> Best preds: [0 0 0 ..., 0 1 1]\n"
     ]
    }
   ],
   "source": [
    "start_time = time.time()\n",
    "\n",
    "best_kmeans_columns_00, \\\n",
    "best_kmeans_score_00, \\\n",
    "best_kmeans_clusterer_00, \\\n",
    "best_kmeans_preds_00 = choose_pair_columns_kmeans(all_columns, log_scaled_all_data_kmeans_00)\n",
    "\n",
    "# best_kmeans_columns_00 = ['frac_3s_atts', 'time_hints']\n",
    "# best_kmeans_clusterer_00, \\\n",
    "# best_kmeans_score_00, \\\n",
    "# best_kmeans_preds_00 = kmeans(log_scaled_all_data_kmeans_00[best_kmeans_columns_00]) \n",
    "\n",
    "\n",
    "end_time = time.time()\n",
    "print(\"\\n\\t>>> Exec. time\\t:{}s\".format(end_time-start_time))\n",
    "print(\"\\t>>> Best pair of cols:\", best_kmeans_columns_00)\n",
    "print(\"\\t>>> Best score:\", best_kmeans_score_00)\n",
    "print(\"\\t>>> Best clusterer:\", best_kmeans_clusterer_00)\n",
    "print(\"\\t>>> Best preds:\", best_kmeans_preds_00)"
   ]
  },
  {
   "cell_type": "code",
   "execution_count": 37,
   "metadata": {},
   "outputs": [
    {
     "name": "stdout",
     "output_type": "stream",
     "text": [
      "954 6562 5608\n"
     ]
    }
   ],
   "source": [
    "print(sum(best_kmeans_preds_00), len(best_kmeans_preds_00), len(best_kmeans_preds_00[best_kmeans_preds_00 == 0]))"
   ]
  },
  {
   "cell_type": "code",
   "execution_count": 38,
   "metadata": {},
   "outputs": [
    {
     "data": {
      "image/png": "[encoded data removed]",
      "text/plain": [
       "<matplotlib.figure.Figure at 0x7f3784094a58>"
      ]
     },
     "metadata": {},
     "output_type": "display_data"
    }
   ],
   "source": [
    "best_kmeans_preds_mask_00 = preds_to_indices(best_kmeans_preds_00)\n",
    "\n",
    "log_scaled_all_data_kmeans_000 = log_scaled_all_data_kmeans_00.copy()[~log_scaled_all_data_kmeans_00.index.isin(best_kmeans_preds_mask_00)]\n",
    "\n",
    "log_scaled_all_data_kmeans_001 = log_scaled_all_data_kmeans_00.copy()[log_scaled_all_data_kmeans_00.index.isin(best_kmeans_preds_mask_00)]\n",
    "\n",
    "plt.scatter(log_scaled_all_data_kmeans_000[best_kmeans_columns_00[0]], \\\n",
    "            log_scaled_all_data_kmeans_000[best_kmeans_columns_00[1]], \\\n",
    "            alpha=0.6, s=15, c='lightgreen')\n",
    "plt.scatter(log_scaled_all_data_kmeans_001[best_kmeans_columns_00[0]], \\\n",
    "            log_scaled_all_data_kmeans_001[best_kmeans_columns_00[1]], \\\n",
    "            alpha=0.6, s=15, c='grey')\n",
    "# plt.xlim([0.0, 0.6])\n",
    "# plt.ylim([0.0, 0.4])\n",
    "# plt.figtext(x=0.64, y=0.56, s='Group 01', ha='center', size=14, color='black')\n",
    "# plt.figtext(x=0.20, y=0.69, s='Group 00', ha='center', size=14, color='darkgreen')\n",
    "ax = plt.gca()\n",
    "ax.set_xlabel(best_kmeans_columns_00[0], size=14)\n",
    "ax.set_ylabel(best_kmeans_columns_00[1], size=14)\n",
    "#plt.plot((0.13, 0.13), (0.001, 0.499), 'k--', c='blue')\n",
    "plt.show()"
   ]
  },
  {
   "cell_type": "markdown",
   "metadata": {},
   "source": [
    "So, there is a subgroup 001 of 1109 students that do not use many hints. What about the rest (000, 6186 students)?"
   ]
  },
  {
   "cell_type": "code",
   "execution_count": 39,
   "metadata": {},
   "outputs": [
    {
     "data": {
      "text/plain": [
       "RangeIndex(start=0, stop=5608, step=1)"
      ]
     },
     "execution_count": 39,
     "metadata": {},
     "output_type": "execute_result"
    }
   ],
   "source": [
    "log_scaled_all_data_kmeans_000 = log_scaled_all_data_kmeans_00.copy()[~log_scaled_all_data_kmeans_00.index.isin(best_kmeans_preds_mask_00)]\n",
    "\n",
    "log_scaled_all_data_kmeans_000.reset_index(inplace=True, drop=True)\n",
    "\n",
    "log_scaled_all_data_kmeans_000.index"
   ]
  },
  {
   "cell_type": "code",
   "execution_count": 40,
   "metadata": {},
   "outputs": [
    {
     "name": "stdout",
     "output_type": "stream",
     "text": [
      "\t>>> Progress\t:100.0000%\n",
      "\t>>> Exec. time\t:156.93136739730835s\n",
      "\t>>> Best pair of cols: ['num_sess', 'num_probs']\n",
      "\t>>> Best score: 0.603642492292\n",
      "\t>>> Best clusterer: KMeans(algorithm='auto', copy_x=True, init='k-means++', max_iter=300,\n",
      "    n_clusters=2, n_init=10, n_jobs=1, precompute_distances='auto',\n",
      "    random_state=0, tol=0.0001, verbose=0)\n",
      "\t>>> Best preds: [1 0 0 ..., 1 1 1]\n"
     ]
    }
   ],
   "source": [
    "start_time = time.time()\n",
    "\n",
    "best_kmeans_columns_000, \\\n",
    "best_kmeans_score_000, \\\n",
    "best_kmeans_clusterer_000, \\\n",
    "best_kmeans_preds_000 = choose_pair_columns_kmeans(all_columns, log_scaled_all_data_kmeans_000)\n",
    "\n",
    "# best_kmeans_columns_000 = ['num_sess', 'num_probs']\n",
    "# best_kmeans_clusterer_000, \\\n",
    "# best_kmeans_score_000, \\\n",
    "# best_kmeans_preds_000 = kmeans(log_scaled_all_data_kmeans_000[best_kmeans_columns_000]) \n",
    "\n",
    "end_time = time.time()\n",
    "print(\"\\n\\t>>> Exec. time\\t:{}s\".format(end_time-start_time))\n",
    "print(\"\\t>>> Best pair of cols:\", best_kmeans_columns_000)\n",
    "print(\"\\t>>> Best score:\", best_kmeans_score_000)\n",
    "print(\"\\t>>> Best clusterer:\", best_kmeans_clusterer_000)\n",
    "print(\"\\t>>> Best preds:\", best_kmeans_preds_000)"
   ]
  },
  {
   "cell_type": "code",
   "execution_count": 41,
   "metadata": {},
   "outputs": [
    {
     "name": "stdout",
     "output_type": "stream",
     "text": [
      "2230 5608 3378\n"
     ]
    }
   ],
   "source": [
    "print(sum(best_kmeans_preds_000), len(best_kmeans_preds_000), len(best_kmeans_preds_000[best_kmeans_preds_000 == 0]))"
   ]
  },
  {
   "cell_type": "code",
   "execution_count": 42,
   "metadata": {},
   "outputs": [
    {
     "data": {
      "image/png": "[encoded data removed]",
      "text/plain": [
       "<matplotlib.figure.Figure at 0x7f377fb58160>"
      ]
     },
     "metadata": {},
     "output_type": "display_data"
    }
   ],
   "source": [
    "best_kmeans_preds_mask_000 = preds_to_indices(best_kmeans_preds_000)\n",
    "\n",
    "log_scaled_all_data_kmeans_0000 = log_scaled_all_data_kmeans_000.copy()[~log_scaled_all_data_kmeans_000.index.isin(best_kmeans_preds_mask_000)]\n",
    "\n",
    "log_scaled_all_data_kmeans_0001 = log_scaled_all_data_kmeans_000.copy()[log_scaled_all_data_kmeans_000.index.isin(best_kmeans_preds_mask_000)]\n",
    "\n",
    "plt.scatter(log_scaled_all_data_kmeans_0000[best_kmeans_columns_000[0]], \\\n",
    "            log_scaled_all_data_kmeans_0000[best_kmeans_columns_000[1]], \\\n",
    "            alpha=0.6, s=15, c='lightgreen')\n",
    "plt.scatter(log_scaled_all_data_kmeans_0001[best_kmeans_columns_000[0]], \\\n",
    "            log_scaled_all_data_kmeans_0001[best_kmeans_columns_000[1]], \\\n",
    "            alpha=0.6, s=15, c='grey')\n",
    "# plt.figtext(x=0.64, y=0.56, s='Group 01', ha='center', size=14, color='black')\n",
    "# plt.figtext(x=0.20, y=0.69, s='Group 00', ha='center', size=14, color='darkgreen')\n",
    "ax = plt.gca()\n",
    "ax.set_xlabel(best_kmeans_columns_000[0], size=14)\n",
    "ax.set_ylabel(best_kmeans_columns_000[1], size=14)\n",
    "#plt.plot((0.13, 0.13), (0.001, 0.499), 'k--', c='blue')\n",
    "plt.show()"
   ]
  },
  {
   "cell_type": "markdown",
   "metadata": {},
   "source": [
    "Splitting group 0000 (students with large `'num_sess'` and `'num_probs'`)"
   ]
  },
  {
   "cell_type": "code",
   "execution_count": 43,
   "metadata": {},
   "outputs": [
    {
     "data": {
      "text/plain": [
       "RangeIndex(start=0, stop=3378, step=1)"
      ]
     },
     "execution_count": 43,
     "metadata": {},
     "output_type": "execute_result"
    }
   ],
   "source": [
    "log_scaled_all_data_kmeans_0000 = log_scaled_all_data_kmeans_000.copy()[~log_scaled_all_data_kmeans_000.index.isin(best_kmeans_preds_mask_000)]\n",
    "\n",
    "log_scaled_all_data_kmeans_0000.reset_index(inplace=True, drop=True)\n",
    "\n",
    "log_scaled_all_data_kmeans_0000.index"
   ]
  },
  {
   "cell_type": "code",
   "execution_count": 44,
   "metadata": {},
   "outputs": [
    {
     "name": "stdout",
     "output_type": "stream",
     "text": [
      "\t>>> Progress\t:100.0000%\n",
      "\t>>> Exec. time\t:61.1955201625824s\n",
      "\t>>> Best pair of cols: ['num_sess', 'num_probs']\n",
      "\t>>> Best score: 0.567975937576\n",
      "\t>>> Best clusterer: KMeans(algorithm='auto', copy_x=True, init='k-means++', max_iter=300,\n",
      "    n_clusters=2, n_init=10, n_jobs=1, precompute_distances='auto',\n",
      "    random_state=0, tol=0.0001, verbose=0)\n",
      "\t>>> Best preds: [1 1 0 ..., 1 1 0]\n"
     ]
    }
   ],
   "source": [
    "start_time = time.time()\n",
    "\n",
    "best_kmeans_columns_0000, \\\n",
    "best_kmeans_score_0000, \\\n",
    "best_kmeans_clusterer_0000, \\\n",
    "best_kmeans_preds_0000 = choose_pair_columns_kmeans(all_columns, log_scaled_all_data_kmeans_0000)\n",
    "\n",
    "# best_kmeans_columns_0000 = ['num_sess', 'num_probs']\n",
    "# best_kmeans_clusterer_0000, \\\n",
    "# best_kmeans_score_0000, \\\n",
    "# best_kmeans_preds_0000 = kmeans(log_scaled_all_data_kmeans_0000[best_kmeans_columns_0000]) \n",
    "\n",
    "end_time = time.time()\n",
    "print(\"\\n\\t>>> Exec. time\\t:{}s\".format(end_time-start_time))\n",
    "print(\"\\t>>> Best pair of cols:\", best_kmeans_columns_0000)\n",
    "print(\"\\t>>> Best score:\", best_kmeans_score_0000)\n",
    "print(\"\\t>>> Best clusterer:\", best_kmeans_clusterer_0000)\n",
    "print(\"\\t>>> Best preds:\", best_kmeans_preds_0000)"
   ]
  },
  {
   "cell_type": "code",
   "execution_count": 45,
   "metadata": {},
   "outputs": [
    {
     "name": "stdout",
     "output_type": "stream",
     "text": [
      "1639 3378 1739\n"
     ]
    }
   ],
   "source": [
    "print(sum(best_kmeans_preds_0000), \\\n",
    "      len(best_kmeans_preds_0000), \\\n",
    "      len(best_kmeans_preds_0000[best_kmeans_preds_0000 == 0]))"
   ]
  },
  {
   "cell_type": "code",
   "execution_count": 46,
   "metadata": {},
   "outputs": [
    {
     "data": {
      "image/png": "[encoded data removed]",
      "text/plain": [
       "<matplotlib.figure.Figure at 0x7f377e5f70f0>"
      ]
     },
     "metadata": {},
     "output_type": "display_data"
    }
   ],
   "source": [
    "best_kmeans_preds_mask_0000 = preds_to_indices(best_kmeans_preds_0000)\n",
    "\n",
    "log_scaled_all_data_kmeans_00000 = log_scaled_all_data_kmeans_0000.copy()[~log_scaled_all_data_kmeans_0000.index.isin(best_kmeans_preds_mask_0000)]\n",
    "\n",
    "log_scaled_all_data_kmeans_00001 = log_scaled_all_data_kmeans_0000.copy()[log_scaled_all_data_kmeans_0000.index.isin(best_kmeans_preds_mask_0000)]\n",
    "\n",
    "plt.scatter(log_scaled_all_data_kmeans_00000[best_kmeans_columns_0000[0]], \\\n",
    "            log_scaled_all_data_kmeans_00000[best_kmeans_columns_0000[1]], \\\n",
    "            alpha=0.6, s=15, c='lightgreen')\n",
    "plt.scatter(log_scaled_all_data_kmeans_00001[best_kmeans_columns_0000[0]], \\\n",
    "            log_scaled_all_data_kmeans_00001[best_kmeans_columns_0000[1]], \\\n",
    "            alpha=0.6, s=15, c='grey')\n",
    "# plt.xlim([0.0, 0.6])\n",
    "# plt.ylim([0.0, 0.4])\n",
    "# plt.figtext(x=0.64, y=0.56, s='Group 01', ha='center', size=14, color='black')\n",
    "# plt.figtext(x=0.20, y=0.69, s='Group 00', ha='center', size=14, color='darkgreen')\n",
    "ax = plt.gca()\n",
    "ax.set_xlabel(best_kmeans_columns_0000[0], size=14)\n",
    "ax.set_ylabel(best_kmeans_columns_0000[1], size=14)\n",
    "#plt.plot((0.13, 0.13), (0.001, 0.499), 'k--', c='blue')\n",
    "plt.show()"
   ]
  },
  {
   "cell_type": "markdown",
   "metadata": {},
   "source": [
    "As we see, these two groups represent students with \"intermediate experience\" (00000) and \"largest experience\" (00001)."
   ]
  },
  {
   "cell_type": "markdown",
   "metadata": {},
   "source": [
    "During this sensitivity check, I splitted 8082 students (90% of ASSISTments students) into 6 different groups:\n",
    "- **group 1**, 1170 students with large `'frac_1s_hints'` (\"gaming\" behaviour);\n",
    "- **group 2**, 350 students with small `'frac_1s_hints'` and large `'frac_3s_atts'` (\"gaming\" behaviour);\n",
    "- **group 3**, 954 students with small `'time_hints'` (\"non-gaming\" behaviour, small usage of hints);\n",
    "- **group 4**, 2230 students with small `'num_sess'` and `'num_probs'` (\"non-gaming\" behaviour, large usage of hints, small experience);\n",
    "- **group 5**, 1739 students with medium `'num_sess'` and `'num_probs'` (\"non-gaming\" behaviour, large usage of hints, medium experience);\n",
    "- **group 6**, 1639 students with large `'num_sess'` and `'num_probs'` (\"non-gaming\" behaviour, large usage of hints, large experience).\n",
    "\n",
    "The final result of this step is the joint cluster index that contains numbers 1-6 for each student:"
   ]
  },
  {
   "cell_type": "code",
   "execution_count": 47,
   "metadata": {},
   "outputs": [
    {
     "data": {
      "text/plain": [
       "1170"
      ]
     },
     "execution_count": 47,
     "metadata": {},
     "output_type": "execute_result"
    }
   ],
   "source": [
    "group1_index = np.array(log_scaled_all_data_kmeans_1.index)\n",
    "len(group1_index)"
   ]
  },
  {
   "cell_type": "code",
   "execution_count": 48,
   "metadata": {},
   "outputs": [
    {
     "data": {
      "text/plain": [
       "350"
      ]
     },
     "execution_count": 48,
     "metadata": {},
     "output_type": "execute_result"
    }
   ],
   "source": [
    "group2_index = np.array(log_scaled_all_data_kmeans_01['index'])\n",
    "len(group2_index)"
   ]
  },
  {
   "cell_type": "code",
   "execution_count": 49,
   "metadata": {},
   "outputs": [
    {
     "data": {
      "text/plain": [
       "954"
      ]
     },
     "execution_count": 49,
     "metadata": {},
     "output_type": "execute_result"
    }
   ],
   "source": [
    "group3_index = np.array(log_scaled_all_data_kmeans_001['index'])\n",
    "len(group3_index)"
   ]
  },
  {
   "cell_type": "code",
   "execution_count": 50,
   "metadata": {},
   "outputs": [
    {
     "data": {
      "text/plain": [
       "2230"
      ]
     },
     "execution_count": 50,
     "metadata": {},
     "output_type": "execute_result"
    }
   ],
   "source": [
    "group4_index = np.array(log_scaled_all_data_kmeans_0001['index'])\n",
    "len(group4_index)"
   ]
  },
  {
   "cell_type": "code",
   "execution_count": 51,
   "metadata": {},
   "outputs": [
    {
     "data": {
      "text/plain": [
       "1739"
      ]
     },
     "execution_count": 51,
     "metadata": {},
     "output_type": "execute_result"
    }
   ],
   "source": [
    "group5_index = np.array(log_scaled_all_data_kmeans_00000['index'])\n",
    "len(group5_index)"
   ]
  },
  {
   "cell_type": "code",
   "execution_count": 52,
   "metadata": {},
   "outputs": [
    {
     "data": {
      "text/plain": [
       "1639"
      ]
     },
     "execution_count": 52,
     "metadata": {},
     "output_type": "execute_result"
    }
   ],
   "source": [
    "group6_index = np.array(log_scaled_all_data_kmeans_00001['index'])\n",
    "len(group6_index)"
   ]
  },
  {
   "cell_type": "code",
   "execution_count": 53,
   "metadata": {
    "collapsed": true
   },
   "outputs": [],
   "source": [
    "def create_joint_cluster_index():\n",
    "    '''\n",
    "    Saves group index files into cluster_index.csv for further analysis\n",
    "    '''\n",
    "    \n",
    "    cluster_index_lst = []\n",
    "    for i in range(len(stud_data)+1):\n",
    "        if i in group1_index:\n",
    "            cluster_index_lst.append(1)\n",
    "        elif i in group2_index:\n",
    "            cluster_index_lst.append(2)\n",
    "        elif i in group3_index:\n",
    "            cluster_index_lst.append(3)\n",
    "        elif i in group4_index:\n",
    "            cluster_index_lst.append(4)\n",
    "        elif i in group5_index:\n",
    "            cluster_index_lst.append(5)\n",
    "        elif i in group6_index:\n",
    "            cluster_index_lst.append(6)\n",
    "\n",
    "    print(Counter(cluster_index_lst))\n",
    "    cluster_index = pd.Series(cluster_index_lst, dtype=int)\n",
    "    cluster_index.to_csv('cluster_index_run2.csv')\n",
    "    return "
   ]
  },
  {
   "cell_type": "code",
   "execution_count": 54,
   "metadata": {},
   "outputs": [
    {
     "name": "stdout",
     "output_type": "stream",
     "text": [
      "Counter({4: 2230, 5: 1739, 6: 1639, 1: 1170, 3: 954, 2: 350})\n"
     ]
    }
   ],
   "source": [
    "create_joint_cluster_index()"
   ]
  },
  {
   "cell_type": "code",
   "execution_count": 55,
   "metadata": {},
   "outputs": [
    {
     "name": "stdout",
     "output_type": "stream",
     "text": [
      "-rw-rw-r-- 1 dima806 dima806 55K Nov  4 20:30 cluster_index_run2.csv\r\n"
     ]
    }
   ],
   "source": [
    "! ls -lh cluster_index_run2.csv"
   ]
  },
  {
   "cell_type": "code",
   "execution_count": null,
   "metadata": {
    "collapsed": true
   },
   "outputs": [],
   "source": []
  }
 ],
 "metadata": {
  "kernelspec": {
   "display_name": "Python 3",
   "language": "python",
   "name": "python3"
  },
  "language_info": {
   "codemirror_mode": {
    "name": "ipython",
    "version": 3
   },
   "file_extension": ".py",
   "mimetype": "text/x-python",
   "name": "python",
   "nbconvert_exporter": "python",
   "pygments_lexer": "ipython3",
   "version": "3.6.1"
  }
 },
 "nbformat": 4,
 "nbformat_minor": 2
}
