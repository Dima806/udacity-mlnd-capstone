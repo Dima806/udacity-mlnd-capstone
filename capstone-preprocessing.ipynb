{
 "cells": [
  {
   "cell_type": "markdown",
   "metadata": {},
   "source": [
    "# Udacity MLND Capstone Project \n",
    "## \"Determination of students’ interaction patterns with an intelligent tutoring system and study of their correlation with successful learning\"\n",
    "### Preprocessing step"
   ]
  },
  {
   "cell_type": "code",
   "execution_count": 1,
   "metadata": {
    "collapsed": true
   },
   "outputs": [],
   "source": [
    "import pandas as pd\n",
    "import numpy as np\n",
    "%matplotlib inline\n",
    "import matplotlib.pyplot as plt\n",
    "import time\n",
    "import gzip\n",
    "import shutil"
   ]
  },
  {
   "cell_type": "markdown",
   "metadata": {},
   "source": [
    "Select features relevant for further analysis:"
   ]
  },
  {
   "cell_type": "code",
   "execution_count": 2,
   "metadata": {
    "collapsed": true
   },
   "outputs": [],
   "source": [
    "columns = ['Anon Student Id', \\\n",
    "           'Session Id', \\\n",
    "           'Duration (sec)', \\\n",
    "           'Student Response Type', \\\n",
    "           'Problem Name', \\\n",
    "           'Problem View', \\\n",
    "           'Attempt At Step', \\\n",
    "           'Outcome', \\\n",
    "           'Time']"
   ]
  },
  {
   "cell_type": "markdown",
   "metadata": {},
   "source": [
    "Load raw data from ASSISTments 2004-2005, 2005-2006 and 2006-2007 years datasets:"
   ]
  },
  {
   "cell_type": "code",
   "execution_count": 3,
   "metadata": {
    "scrolled": false
   },
   "outputs": [
    {
     "name": "stdout",
     "output_type": "stream",
     "text": [
      "Loading ds92 data:\n",
      "(580785, 9)\n",
      "Loading ds120 data:\n",
      "(685615, 9)\n",
      "Loading ds339 data:\n",
      "(1451003, 9)\n"
     ]
    }
   ],
   "source": [
    "print(\"Loading ds92 data:\")\n",
    "ds92_data = pd.read_csv(\"wpi-assistments/math_2004_2005/ds92_tx_All_Data_172_2016_0504_081852.txt\", sep=\"\\t\", low_memory=False)\n",
    "ds92_data = ds92_data[columns]\n",
    "print(ds92_data.shape)\n",
    "\n",
    "print(\"Loading ds120 data:\")\n",
    "ds120_data = pd.read_csv(\"wpi-assistments/math_2005_2006/ds120_tx_All_Data_265_2017_0414_065125.txt\", sep=\"\\t\", low_memory=False)\n",
    "ds120_data = ds120_data.copy()[columns]\n",
    "print(ds120_data.shape)\n",
    "\n",
    "print(\"Loading ds339 data:\")\n",
    "ds339_data = pd.read_csv(\"wpi-assistments/math_2006_2007/ds339_tx_All_Data_1059_2015_0729_215742.txt\", sep=\"\\t\", low_memory=False)\n",
    "ds339_data = ds339_data.copy()[columns]\n",
    "print(ds339_data.shape)"
   ]
  },
  {
   "cell_type": "markdown",
   "metadata": {},
   "source": [
    "Transform and combine the selected features:"
   ]
  },
  {
   "cell_type": "code",
   "execution_count": 4,
   "metadata": {},
   "outputs": [
    {
     "name": "stdout",
     "output_type": "stream",
     "text": [
      ">> Processing dataset 1:\n",
      ">> Processing dataset 2:\n",
      ">> Processing dataset 3:\n",
      "<class 'pandas.core.frame.DataFrame'>\n",
      "RangeIndex: 2717403 entries, 0 to 2717402\n",
      "Data columns (total 9 columns):\n",
      "Anon Student Id          object\n",
      "Session Id               int64\n",
      "Duration (sec)           float64\n",
      "Student Response Type    int64\n",
      "Problem Name             int64\n",
      "Problem View             float64\n",
      "Attempt At Step          float64\n",
      "Outcome                  float64\n",
      "Day                      object\n",
      "dtypes: float64(4), int64(3), object(2)\n",
      "memory usage: 186.6+ MB\n"
     ]
    }
   ],
   "source": [
    "i = 1\n",
    "for df in [ds92_data, ds120_data, ds339_data]:\n",
    "    print(\">> Processing dataset {}:\".format(i))\n",
    "    df['Day'] = df['Time'].apply(lambda x: x.split(\" \")[0])\n",
    "    df.drop(['Time'], axis=1, inplace=True)\n",
    "    df['Duration (sec)'] = df['Duration (sec)'].replace({'.': 0}).astype(float)\n",
    "    df['Student Response Type'] = df['Student Response Type'].replace({'ATTEMPT': 0, 'HINT_REQUEST': 1})\n",
    "    df['Outcome'] = df['Outcome'].replace({'CORRECT': 0, 'INCORRECT': 1, 'HINT': 2})\n",
    "    i += 1\n",
    "data = pd.concat([ds92_data, ds120_data, ds339_data], ignore_index=True)\n",
    "data.info()"
   ]
  },
  {
   "cell_type": "code",
   "execution_count": 5,
   "metadata": {},
   "outputs": [
    {
     "data": {
      "text/html": [
       "<div>\n",
       "<style>\n",
       "    .dataframe thead tr:only-child th {\n",
       "        text-align: right;\n",
       "    }\n",
       "\n",
       "    .dataframe thead th {\n",
       "        text-align: left;\n",
       "    }\n",
       "\n",
       "    .dataframe tbody tr th {\n",
       "        vertical-align: top;\n",
       "    }\n",
       "</style>\n",
       "<table border=\"1\" class=\"dataframe\">\n",
       "  <thead>\n",
       "    <tr style=\"text-align: right;\">\n",
       "      <th></th>\n",
       "      <th>Anon Student Id</th>\n",
       "      <th>Session Id</th>\n",
       "      <th>Duration (sec)</th>\n",
       "      <th>Student Response Type</th>\n",
       "      <th>Problem Name</th>\n",
       "      <th>Problem View</th>\n",
       "      <th>Attempt At Step</th>\n",
       "      <th>Outcome</th>\n",
       "      <th>Day</th>\n",
       "    </tr>\n",
       "  </thead>\n",
       "  <tbody>\n",
       "    <tr>\n",
       "      <th>0</th>\n",
       "      <td>Stu_001d187b1b375fe98b88696b250177f0</td>\n",
       "      <td>647501</td>\n",
       "      <td>102.0</td>\n",
       "      <td>1</td>\n",
       "      <td>2218</td>\n",
       "      <td>1.0</td>\n",
       "      <td>1.0</td>\n",
       "      <td>2.0</td>\n",
       "      <td>2004-11-10</td>\n",
       "    </tr>\n",
       "    <tr>\n",
       "      <th>1</th>\n",
       "      <td>Stu_001d187b1b375fe98b88696b250177f0</td>\n",
       "      <td>647501</td>\n",
       "      <td>46.0</td>\n",
       "      <td>0</td>\n",
       "      <td>2218</td>\n",
       "      <td>1.0</td>\n",
       "      <td>2.0</td>\n",
       "      <td>0.0</td>\n",
       "      <td>2004-11-10</td>\n",
       "    </tr>\n",
       "    <tr>\n",
       "      <th>2</th>\n",
       "      <td>Stu_001d187b1b375fe98b88696b250177f0</td>\n",
       "      <td>647792</td>\n",
       "      <td>70.0</td>\n",
       "      <td>1</td>\n",
       "      <td>3093</td>\n",
       "      <td>1.0</td>\n",
       "      <td>1.0</td>\n",
       "      <td>2.0</td>\n",
       "      <td>2004-11-10</td>\n",
       "    </tr>\n",
       "    <tr>\n",
       "      <th>3</th>\n",
       "      <td>Stu_001d187b1b375fe98b88696b250177f0</td>\n",
       "      <td>647792</td>\n",
       "      <td>22.0</td>\n",
       "      <td>1</td>\n",
       "      <td>3093</td>\n",
       "      <td>1.0</td>\n",
       "      <td>1.0</td>\n",
       "      <td>2.0</td>\n",
       "      <td>2004-11-10</td>\n",
       "    </tr>\n",
       "    <tr>\n",
       "      <th>4</th>\n",
       "      <td>Stu_001d187b1b375fe98b88696b250177f0</td>\n",
       "      <td>647792</td>\n",
       "      <td>2.0</td>\n",
       "      <td>1</td>\n",
       "      <td>3093</td>\n",
       "      <td>1.0</td>\n",
       "      <td>2.0</td>\n",
       "      <td>2.0</td>\n",
       "      <td>2004-11-10</td>\n",
       "    </tr>\n",
       "    <tr>\n",
       "      <th>5</th>\n",
       "      <td>Stu_001d187b1b375fe98b88696b250177f0</td>\n",
       "      <td>647792</td>\n",
       "      <td>2.0</td>\n",
       "      <td>1</td>\n",
       "      <td>3093</td>\n",
       "      <td>1.0</td>\n",
       "      <td>3.0</td>\n",
       "      <td>2.0</td>\n",
       "      <td>2004-11-10</td>\n",
       "    </tr>\n",
       "    <tr>\n",
       "      <th>6</th>\n",
       "      <td>Stu_001d187b1b375fe98b88696b250177f0</td>\n",
       "      <td>647792</td>\n",
       "      <td>23.0</td>\n",
       "      <td>1</td>\n",
       "      <td>3093</td>\n",
       "      <td>1.0</td>\n",
       "      <td>4.0</td>\n",
       "      <td>2.0</td>\n",
       "      <td>2004-11-10</td>\n",
       "    </tr>\n",
       "    <tr>\n",
       "      <th>7</th>\n",
       "      <td>Stu_001d187b1b375fe98b88696b250177f0</td>\n",
       "      <td>647792</td>\n",
       "      <td>13.0</td>\n",
       "      <td>0</td>\n",
       "      <td>3093</td>\n",
       "      <td>1.0</td>\n",
       "      <td>5.0</td>\n",
       "      <td>1.0</td>\n",
       "      <td>2004-11-10</td>\n",
       "    </tr>\n",
       "    <tr>\n",
       "      <th>8</th>\n",
       "      <td>Stu_001d187b1b375fe98b88696b250177f0</td>\n",
       "      <td>647792</td>\n",
       "      <td>9.0</td>\n",
       "      <td>0</td>\n",
       "      <td>3093</td>\n",
       "      <td>1.0</td>\n",
       "      <td>6.0</td>\n",
       "      <td>1.0</td>\n",
       "      <td>2004-11-10</td>\n",
       "    </tr>\n",
       "    <tr>\n",
       "      <th>9</th>\n",
       "      <td>Stu_001d187b1b375fe98b88696b250177f0</td>\n",
       "      <td>647792</td>\n",
       "      <td>54.0</td>\n",
       "      <td>0</td>\n",
       "      <td>3093</td>\n",
       "      <td>1.0</td>\n",
       "      <td>7.0</td>\n",
       "      <td>1.0</td>\n",
       "      <td>2004-11-10</td>\n",
       "    </tr>\n",
       "    <tr>\n",
       "      <th>10</th>\n",
       "      <td>Stu_001d187b1b375fe98b88696b250177f0</td>\n",
       "      <td>648459</td>\n",
       "      <td>10.0</td>\n",
       "      <td>0</td>\n",
       "      <td>3093</td>\n",
       "      <td>2.0</td>\n",
       "      <td>1.0</td>\n",
       "      <td>1.0</td>\n",
       "      <td>2004-11-10</td>\n",
       "    </tr>\n",
       "    <tr>\n",
       "      <th>11</th>\n",
       "      <td>Stu_001d187b1b375fe98b88696b250177f0</td>\n",
       "      <td>648848</td>\n",
       "      <td>4.0</td>\n",
       "      <td>0</td>\n",
       "      <td>3093</td>\n",
       "      <td>3.0</td>\n",
       "      <td>1.0</td>\n",
       "      <td>1.0</td>\n",
       "      <td>2004-11-10</td>\n",
       "    </tr>\n",
       "    <tr>\n",
       "      <th>12</th>\n",
       "      <td>Stu_001d187b1b375fe98b88696b250177f0</td>\n",
       "      <td>648848</td>\n",
       "      <td>7.0</td>\n",
       "      <td>0</td>\n",
       "      <td>3093</td>\n",
       "      <td>3.0</td>\n",
       "      <td>1.0</td>\n",
       "      <td>1.0</td>\n",
       "      <td>2004-11-10</td>\n",
       "    </tr>\n",
       "    <tr>\n",
       "      <th>13</th>\n",
       "      <td>Stu_001d187b1b375fe98b88696b250177f0</td>\n",
       "      <td>648848</td>\n",
       "      <td>28.0</td>\n",
       "      <td>0</td>\n",
       "      <td>3093</td>\n",
       "      <td>3.0</td>\n",
       "      <td>2.0</td>\n",
       "      <td>1.0</td>\n",
       "      <td>2004-11-10</td>\n",
       "    </tr>\n",
       "    <tr>\n",
       "      <th>14</th>\n",
       "      <td>Stu_001d187b1b375fe98b88696b250177f0</td>\n",
       "      <td>648848</td>\n",
       "      <td>3.0</td>\n",
       "      <td>1</td>\n",
       "      <td>3093</td>\n",
       "      <td>3.0</td>\n",
       "      <td>3.0</td>\n",
       "      <td>2.0</td>\n",
       "      <td>2004-11-10</td>\n",
       "    </tr>\n",
       "    <tr>\n",
       "      <th>15</th>\n",
       "      <td>Stu_001d187b1b375fe98b88696b250177f0</td>\n",
       "      <td>648848</td>\n",
       "      <td>1.0</td>\n",
       "      <td>1</td>\n",
       "      <td>3093</td>\n",
       "      <td>3.0</td>\n",
       "      <td>4.0</td>\n",
       "      <td>2.0</td>\n",
       "      <td>2004-11-10</td>\n",
       "    </tr>\n",
       "    <tr>\n",
       "      <th>16</th>\n",
       "      <td>Stu_001d187b1b375fe98b88696b250177f0</td>\n",
       "      <td>648848</td>\n",
       "      <td>54.0</td>\n",
       "      <td>0</td>\n",
       "      <td>3093</td>\n",
       "      <td>3.0</td>\n",
       "      <td>5.0</td>\n",
       "      <td>0.0</td>\n",
       "      <td>2004-11-10</td>\n",
       "    </tr>\n",
       "    <tr>\n",
       "      <th>17</th>\n",
       "      <td>Stu_001d187b1b375fe98b88696b250177f0</td>\n",
       "      <td>648848</td>\n",
       "      <td>13.0</td>\n",
       "      <td>0</td>\n",
       "      <td>3093</td>\n",
       "      <td>3.0</td>\n",
       "      <td>1.0</td>\n",
       "      <td>0.0</td>\n",
       "      <td>2004-11-10</td>\n",
       "    </tr>\n",
       "    <tr>\n",
       "      <th>18</th>\n",
       "      <td>Stu_001d187b1b375fe98b88696b250177f0</td>\n",
       "      <td>649206</td>\n",
       "      <td>23.0</td>\n",
       "      <td>0</td>\n",
       "      <td>2247</td>\n",
       "      <td>1.0</td>\n",
       "      <td>1.0</td>\n",
       "      <td>1.0</td>\n",
       "      <td>2004-11-10</td>\n",
       "    </tr>\n",
       "    <tr>\n",
       "      <th>19</th>\n",
       "      <td>Stu_001d187b1b375fe98b88696b250177f0</td>\n",
       "      <td>649206</td>\n",
       "      <td>31.0</td>\n",
       "      <td>1</td>\n",
       "      <td>2247</td>\n",
       "      <td>1.0</td>\n",
       "      <td>1.0</td>\n",
       "      <td>2.0</td>\n",
       "      <td>2004-11-10</td>\n",
       "    </tr>\n",
       "  </tbody>\n",
       "</table>\n",
       "</div>"
      ],
      "text/plain": [
       "                         Anon Student Id  Session Id  Duration (sec)  \\\n",
       "0   Stu_001d187b1b375fe98b88696b250177f0      647501           102.0   \n",
       "1   Stu_001d187b1b375fe98b88696b250177f0      647501            46.0   \n",
       "2   Stu_001d187b1b375fe98b88696b250177f0      647792            70.0   \n",
       "3   Stu_001d187b1b375fe98b88696b250177f0      647792            22.0   \n",
       "4   Stu_001d187b1b375fe98b88696b250177f0      647792             2.0   \n",
       "5   Stu_001d187b1b375fe98b88696b250177f0      647792             2.0   \n",
       "6   Stu_001d187b1b375fe98b88696b250177f0      647792            23.0   \n",
       "7   Stu_001d187b1b375fe98b88696b250177f0      647792            13.0   \n",
       "8   Stu_001d187b1b375fe98b88696b250177f0      647792             9.0   \n",
       "9   Stu_001d187b1b375fe98b88696b250177f0      647792            54.0   \n",
       "10  Stu_001d187b1b375fe98b88696b250177f0      648459            10.0   \n",
       "11  Stu_001d187b1b375fe98b88696b250177f0      648848             4.0   \n",
       "12  Stu_001d187b1b375fe98b88696b250177f0      648848             7.0   \n",
       "13  Stu_001d187b1b375fe98b88696b250177f0      648848            28.0   \n",
       "14  Stu_001d187b1b375fe98b88696b250177f0      648848             3.0   \n",
       "15  Stu_001d187b1b375fe98b88696b250177f0      648848             1.0   \n",
       "16  Stu_001d187b1b375fe98b88696b250177f0      648848            54.0   \n",
       "17  Stu_001d187b1b375fe98b88696b250177f0      648848            13.0   \n",
       "18  Stu_001d187b1b375fe98b88696b250177f0      649206            23.0   \n",
       "19  Stu_001d187b1b375fe98b88696b250177f0      649206            31.0   \n",
       "\n",
       "    Student Response Type  Problem Name  Problem View  Attempt At Step  \\\n",
       "0                       1          2218           1.0              1.0   \n",
       "1                       0          2218           1.0              2.0   \n",
       "2                       1          3093           1.0              1.0   \n",
       "3                       1          3093           1.0              1.0   \n",
       "4                       1          3093           1.0              2.0   \n",
       "5                       1          3093           1.0              3.0   \n",
       "6                       1          3093           1.0              4.0   \n",
       "7                       0          3093           1.0              5.0   \n",
       "8                       0          3093           1.0              6.0   \n",
       "9                       0          3093           1.0              7.0   \n",
       "10                      0          3093           2.0              1.0   \n",
       "11                      0          3093           3.0              1.0   \n",
       "12                      0          3093           3.0              1.0   \n",
       "13                      0          3093           3.0              2.0   \n",
       "14                      1          3093           3.0              3.0   \n",
       "15                      1          3093           3.0              4.0   \n",
       "16                      0          3093           3.0              5.0   \n",
       "17                      0          3093           3.0              1.0   \n",
       "18                      0          2247           1.0              1.0   \n",
       "19                      1          2247           1.0              1.0   \n",
       "\n",
       "    Outcome         Day  \n",
       "0       2.0  2004-11-10  \n",
       "1       0.0  2004-11-10  \n",
       "2       2.0  2004-11-10  \n",
       "3       2.0  2004-11-10  \n",
       "4       2.0  2004-11-10  \n",
       "5       2.0  2004-11-10  \n",
       "6       2.0  2004-11-10  \n",
       "7       1.0  2004-11-10  \n",
       "8       1.0  2004-11-10  \n",
       "9       1.0  2004-11-10  \n",
       "10      1.0  2004-11-10  \n",
       "11      1.0  2004-11-10  \n",
       "12      1.0  2004-11-10  \n",
       "13      1.0  2004-11-10  \n",
       "14      2.0  2004-11-10  \n",
       "15      2.0  2004-11-10  \n",
       "16      0.0  2004-11-10  \n",
       "17      0.0  2004-11-10  \n",
       "18      1.0  2004-11-10  \n",
       "19      2.0  2004-11-10  "
      ]
     },
     "execution_count": 5,
     "metadata": {},
     "output_type": "execute_result"
    }
   ],
   "source": [
    "data.head(20)"
   ]
  },
  {
   "cell_type": "markdown",
   "metadata": {},
   "source": [
    "# Add 'x' column:"
   ]
  },
  {
   "cell_type": "markdown",
   "metadata": {},
   "source": [
    "**Note to reviewers**: this algorithm is quite slow (~25 minutes), so you may consider adding `'x'` variable (number of attempt) to a substantial subset of ASSISTments dataset (e.g. processing 100,000 rows takes only ~0.5 minutes)."
   ]
  },
  {
   "cell_type": "code",
   "execution_count": 6,
   "metadata": {
    "collapsed": true
   },
   "outputs": [],
   "source": [
    "def adding_x(df):\n",
    "    j = 0\n",
    "    start_time = time.time()\n",
    "    df['x'] = 0\n",
    "    df_attempts = df[df['Student Response Type'] == 0].copy()\n",
    "    stud_list = df_attempts['Anon Student Id'].unique()\n",
    "    for student in stud_list:\n",
    "        print(\"\\r\\t>>> Progress\\t:{:.4%}\".format((j + 1)/len(stud_list)), end='')\n",
    "        j += 1\n",
    "        stud = []\n",
    "        stud.append(student)\n",
    "        data_stud = df_attempts[np.in1d(df_attempts['Anon Student Id'], stud)].copy()\n",
    "        for problem in data_stud['Problem Name'].unique():\n",
    "            prob = []\n",
    "            prob.append(problem)\n",
    "            data_prob = data_stud[np.in1d(data_stud['Problem Name'], prob)].copy()\n",
    "            data_stud.loc[data_prob.index,'x'] = range(1,len(data_prob)+1)\n",
    "        df_attempts.loc[data_stud.index,'x']  = data_stud['x']\n",
    "    end_time = time.time()\n",
    "    print(\"\\n\\t>>> Exec. time\\t:{}s\".format(end_time-start_time))\n",
    "    return df_attempts"
   ]
  },
  {
   "cell_type": "code",
   "execution_count": 7,
   "metadata": {},
   "outputs": [
    {
     "name": "stdout",
     "output_type": "stream",
     "text": [
      "\t>>> Progress\t:100.0000%\n",
      "\t>>> Exec. time\t:1428.0687232017517s\n"
     ]
    },
    {
     "data": {
      "text/plain": [
       "(1916511, 10)"
      ]
     },
     "execution_count": 7,
     "metadata": {},
     "output_type": "execute_result"
    }
   ],
   "source": [
    "#data_x = adding_x(data.head(100000).copy())\n",
    "data_x = adding_x(data.copy())\n",
    "data['x'] = 0\n",
    "data.loc[data_x.index,'x'] = data_x['x']\n",
    "data[data['x'] > 0].shape"
   ]
  },
  {
   "cell_type": "markdown",
   "metadata": {},
   "source": [
    "# Writing data to hdf, reading back and compare"
   ]
  },
  {
   "cell_type": "markdown",
   "metadata": {},
   "source": [
    "I read from and write to compressed hdf, see [performance comparison](http://pandas.pydata.org/pandas-docs/stable/io.html#performance-considerations):"
   ]
  },
  {
   "cell_type": "code",
   "execution_count": 8,
   "metadata": {
    "collapsed": true
   },
   "outputs": [],
   "source": [
    "def hdf_fixed_write_compress(df):\n",
    "    df.to_hdf('data.hdf','test',mode='w',complib='blosc')\n",
    "    return\n",
    "\n",
    "def hdf_fixed_read_compress():\n",
    "    df = pd.read_hdf('data.hdf','test')\n",
    "    return df"
   ]
  },
  {
   "cell_type": "code",
   "execution_count": 9,
   "metadata": {},
   "outputs": [
    {
     "data": {
      "text/plain": [
       "0"
      ]
     },
     "execution_count": 9,
     "metadata": {},
     "output_type": "execute_result"
    }
   ],
   "source": [
    "hdf_fixed_write_compress(data)\n",
    "\n",
    "data1 = hdf_fixed_read_compress()\n",
    "ne = data[data != data1]\n",
    "ne.dropna(axis=0, how='all', inplace=True)\n",
    "ne.shape[0]"
   ]
  },
  {
   "cell_type": "markdown",
   "metadata": {},
   "source": [
    "This file is too large to upload to Githib:"
   ]
  },
  {
   "cell_type": "code",
   "execution_count": 10,
   "metadata": {},
   "outputs": [
    {
     "name": "stdout",
     "output_type": "stream",
     "text": [
      "-rw-rw-r-- 1 dima806 dima806 73M Oct 23 11:30 data.hdf\r\n"
     ]
    }
   ],
   "source": [
    "! ls -lh data.hdf"
   ]
  },
  {
   "cell_type": "markdown",
   "metadata": {},
   "source": [
    ", so I gzipped it:"
   ]
  },
  {
   "cell_type": "code",
   "execution_count": 11,
   "metadata": {},
   "outputs": [],
   "source": [
    "with open('data.hdf', 'rb') as f_in, gzip.open('data.hdf.gz', 'wb') as f_out:\n",
    "    shutil.copyfileobj(f_in, f_out)"
   ]
  },
  {
   "cell_type": "markdown",
   "metadata": {},
   "source": [
    "The obtained `data.hdf.gz` file is smaller than 25M, so I upload it to [my Github](https://github.com/Dima806/udacity-mlnd-capstone):"
   ]
  },
  {
   "cell_type": "code",
   "execution_count": 12,
   "metadata": {},
   "outputs": [
    {
     "name": "stdout",
     "output_type": "stream",
     "text": [
      "-rw-rw-r-- 1 dima806 dima806 17M Oct 23 11:30 data.hdf.gz\r\n"
     ]
    }
   ],
   "source": [
    "! ls -lh data.hdf.gz"
   ]
  },
  {
   "cell_type": "markdown",
   "metadata": {
    "collapsed": true
   },
   "source": [
    "# Creating visualisation:"
   ]
  },
  {
   "cell_type": "code",
   "execution_count": 13,
   "metadata": {},
   "outputs": [],
   "source": [
    "s1 = data[data['Outcome'] <= 1].groupby(['x']).agg(len)['Problem Name']\n",
    "\n",
    "s2 = data[data['Outcome'] == 1].groupby(['x']).agg(len)['Problem Name']\n",
    "\n",
    "s1[8] = s1.loc[8:].sum()\n",
    "for i in range(9, int(s1.index.max()+1)):\n",
    "    try:\n",
    "        s1.drop(i, inplace=True)\n",
    "    except ValueError:\n",
    "        pass\n",
    "\n",
    "s2[8] = s2.loc[8:].sum()\n",
    "for i in range(9, int(s2.index.max()+1)):\n",
    "    try:\n",
    "        s2.drop(i, inplace=True)\n",
    "    except ValueError:\n",
    "        pass"
   ]
  },
  {
   "cell_type": "code",
   "execution_count": 14,
   "metadata": {},
   "outputs": [
    {
     "data": {
      "image/png": "[encoded data removed]",
      "text/plain": [
       "<matplotlib.figure.Figure at 0x7efcc4df73c8>"
      ]
     },
     "metadata": {},
     "output_type": "display_data"
    }
   ],
   "source": [
    "# In case of wrong x labelling, simply run this cell 2 times:\n",
    "\n",
    "fig, ax1 = plt.subplots()\n",
    "fig_size = plt.rcParams[\"figure.figsize\"]\n",
    "fig_size[0] = 8.3\n",
    "fig_size[1] = 4.7\n",
    "plt.rcParams[\"figure.figsize\"] = fig_size\n",
    "plt.xlim(0.5,8.5)\n",
    "plt.bar(s1.index, s1, width=0.9)\n",
    "#plt.bar(s2.index, s2, width=0.9)\n",
    "#plt.legend(['CORRECT', 'INCORRECT'])\n",
    "\n",
    "plt.xlabel(\"Attempt number\", size=14)\n",
    "plt.ylabel(\"Number of attempts\", size=14)\n",
    "ax1.tick_params(axis ='both', which='major', length=0, labelsize =14, color='black')\n",
    "ax1.tick_params(axis ='both', which='minor', length=0)\n",
    "labels = [item.get_text() for item in ax1.get_xticklabels()]\n",
    "labels = ['0', '1', '2', '3', '4', '5', '6', '7', '8+']\n",
    "#print(labels)\n",
    "\n",
    "ax2 = ax1.twinx()\n",
    "ax2.plot(s1.index, s2/s1, 'r-o')\n",
    "ax2.set_ylabel('Fraction of incorrect attempts', size=14, color='r')\n",
    "ax2.tick_params('y', colors='r')\n",
    "ax2.tick_params(axis ='both', which='minor', length=0)\n",
    "ax2.tick_params(axis ='both', which='major', length=0, labelsize =14, color='red')\n",
    "\n",
    "ax1.set_xticklabels(labels)\n",
    "\n",
    "plt.show()\n",
    "fig.savefig('data-visualisation.png')"
   ]
  }
 ],
 "metadata": {
  "kernelspec": {
   "display_name": "Python 3",
   "language": "python",
   "name": "python3"
  },
  "language_info": {
   "codemirror_mode": {
    "name": "ipython",
    "version": 3
   },
   "file_extension": ".py",
   "mimetype": "text/x-python",
   "name": "python",
   "nbconvert_exporter": "python",
   "pygments_lexer": "ipython3",
   "version": "3.6.1"
  }
 },
 "nbformat": 4,
 "nbformat_minor": 2
}
